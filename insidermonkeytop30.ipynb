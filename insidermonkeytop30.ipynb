{
  "nbformat": 4,
  "nbformat_minor": 5,
  "metadata": {
    "kernelspec": {
      "display_name": "Python 3",
      "language": "python",
      "name": "python3"
    },
    "language_info": {
      "codemirror_mode": {
        "name": "ipython",
        "version": 3
      },
      "file_extension": ".py",
      "mimetype": "text/x-python",
      "name": "python",
      "nbconvert_exporter": "python",
      "pygments_lexer": "ipython3",
      "version": "3.6.13"
    },
    "colab": {
      "name": "insidermonkeytop30.ipynb",
      "provenance": []
    }
  },
  "cells": [
    {
      "cell_type": "code",
      "metadata": {
        "id": "leading-lotus"
      },
      "source": [
        "# fetching web pages\n",
        "import requests\n",
        "# getting/processing html from pages\n",
        "from bs4 import BeautifulSoup\n",
        "# processing text with regular expressions\n",
        "import re\n",
        "# dataframes and writing to csv\n",
        "import pandas as pd"
      ],
      "id": "leading-lotus",
      "execution_count": 294,
      "outputs": []
    },
    {
      "cell_type": "code",
      "metadata": {
        "id": "southeast-bench"
      },
      "source": [
        "# setup variables\n",
        "# base url\n",
        "root='https://www.insidermonkey.com/blog/30-most-popular-stocks-among-hedge-funds-2020-q4-rankings-920904/'\n",
        "# how many stocks are there\n",
        "numstocks=30\n",
        "# target tags\n",
        "targettags=['h3', 'p']\n",
        "# success code\n",
        "success=200"
      ],
      "id": "southeast-bench",
      "execution_count": 286,
      "outputs": []
    },
    {
      "cell_type": "code",
      "metadata": {
        "colab": {
          "base_uri": "https://localhost:8080/"
        },
        "id": "distinguished-spotlight",
        "outputId": "373567b2-737b-4ee8-a8a4-bbd7c6f43264"
      },
      "source": [
        "# check\n",
        "for i in range(1, numstocks+1):\n",
        "    url=root+str(i)\n",
        "    print (url)"
      ],
      "id": "distinguished-spotlight",
      "execution_count": 3,
      "outputs": [
        {
          "output_type": "stream",
          "text": [
            "https://www.insidermonkey.com/blog/30-most-popular-stocks-among-hedge-funds-2020-q4-rankings-920904/1\n",
            "https://www.insidermonkey.com/blog/30-most-popular-stocks-among-hedge-funds-2020-q4-rankings-920904/2\n",
            "https://www.insidermonkey.com/blog/30-most-popular-stocks-among-hedge-funds-2020-q4-rankings-920904/3\n",
            "https://www.insidermonkey.com/blog/30-most-popular-stocks-among-hedge-funds-2020-q4-rankings-920904/4\n",
            "https://www.insidermonkey.com/blog/30-most-popular-stocks-among-hedge-funds-2020-q4-rankings-920904/5\n",
            "https://www.insidermonkey.com/blog/30-most-popular-stocks-among-hedge-funds-2020-q4-rankings-920904/6\n",
            "https://www.insidermonkey.com/blog/30-most-popular-stocks-among-hedge-funds-2020-q4-rankings-920904/7\n",
            "https://www.insidermonkey.com/blog/30-most-popular-stocks-among-hedge-funds-2020-q4-rankings-920904/8\n",
            "https://www.insidermonkey.com/blog/30-most-popular-stocks-among-hedge-funds-2020-q4-rankings-920904/9\n",
            "https://www.insidermonkey.com/blog/30-most-popular-stocks-among-hedge-funds-2020-q4-rankings-920904/10\n",
            "https://www.insidermonkey.com/blog/30-most-popular-stocks-among-hedge-funds-2020-q4-rankings-920904/11\n",
            "https://www.insidermonkey.com/blog/30-most-popular-stocks-among-hedge-funds-2020-q4-rankings-920904/12\n",
            "https://www.insidermonkey.com/blog/30-most-popular-stocks-among-hedge-funds-2020-q4-rankings-920904/13\n",
            "https://www.insidermonkey.com/blog/30-most-popular-stocks-among-hedge-funds-2020-q4-rankings-920904/14\n",
            "https://www.insidermonkey.com/blog/30-most-popular-stocks-among-hedge-funds-2020-q4-rankings-920904/15\n",
            "https://www.insidermonkey.com/blog/30-most-popular-stocks-among-hedge-funds-2020-q4-rankings-920904/16\n",
            "https://www.insidermonkey.com/blog/30-most-popular-stocks-among-hedge-funds-2020-q4-rankings-920904/17\n",
            "https://www.insidermonkey.com/blog/30-most-popular-stocks-among-hedge-funds-2020-q4-rankings-920904/18\n",
            "https://www.insidermonkey.com/blog/30-most-popular-stocks-among-hedge-funds-2020-q4-rankings-920904/19\n",
            "https://www.insidermonkey.com/blog/30-most-popular-stocks-among-hedge-funds-2020-q4-rankings-920904/20\n",
            "https://www.insidermonkey.com/blog/30-most-popular-stocks-among-hedge-funds-2020-q4-rankings-920904/21\n",
            "https://www.insidermonkey.com/blog/30-most-popular-stocks-among-hedge-funds-2020-q4-rankings-920904/22\n",
            "https://www.insidermonkey.com/blog/30-most-popular-stocks-among-hedge-funds-2020-q4-rankings-920904/23\n",
            "https://www.insidermonkey.com/blog/30-most-popular-stocks-among-hedge-funds-2020-q4-rankings-920904/24\n",
            "https://www.insidermonkey.com/blog/30-most-popular-stocks-among-hedge-funds-2020-q4-rankings-920904/25\n",
            "https://www.insidermonkey.com/blog/30-most-popular-stocks-among-hedge-funds-2020-q4-rankings-920904/26\n",
            "https://www.insidermonkey.com/blog/30-most-popular-stocks-among-hedge-funds-2020-q4-rankings-920904/27\n",
            "https://www.insidermonkey.com/blog/30-most-popular-stocks-among-hedge-funds-2020-q4-rankings-920904/28\n",
            "https://www.insidermonkey.com/blog/30-most-popular-stocks-among-hedge-funds-2020-q4-rankings-920904/29\n",
            "https://www.insidermonkey.com/blog/30-most-popular-stocks-among-hedge-funds-2020-q4-rankings-920904/30\n"
          ],
          "name": "stdout"
        }
      ]
    },
    {
      "cell_type": "code",
      "metadata": {
        "id": "eWJ83eR16oZP",
        "outputId": "fbe16e30-10ca-4f74-f9ef-debdc3608d38",
        "colab": {
          "base_uri": "https://localhost:8080/"
        }
      },
      "source": [
        "print (h3)"
      ],
      "id": "eWJ83eR16oZP",
      "execution_count": 341,
      "outputs": [
        {
          "output_type": "stream",
          "text": [
            "<h3 style=\"text-align: justify;\">1.  Amazon.com, Inc. (NASDAQ: <a href=\"https://www.insidermonkey.com/insider-trading/company/amazon%20com%20inc/1018724/\">AMZN</a>): $3,328.23</h3>\n"
          ],
          "name": "stdout"
        }
      ]
    },
    {
      "cell_type": "code",
      "metadata": {
        "id": "qnmqsEbj6ovQ",
        "outputId": "ee6856d6-a479-4621-8822-1469acb68f09",
        "colab": {
          "base_uri": "https://localhost:8080/"
        }
      },
      "source": [
        "print (h3.text)"
      ],
      "id": "qnmqsEbj6ovQ",
      "execution_count": 342,
      "outputs": [
        {
          "output_type": "stream",
          "text": [
            "1.  Amazon.com, Inc. (NASDAQ: AMZN): $3,328.23\n"
          ],
          "name": "stdout"
        }
      ]
    },
    {
      "cell_type": "code",
      "metadata": {
        "id": "precise-appraisal"
      },
      "source": [
        "def parseheader(h3):\n",
        "    # print (h3)\n",
        "    # convert to string\n",
        "    h3text=h3.text\n",
        "    # print (h3text)\n",
        "    # grab digits at the front of the string (rank)\n",
        "    rank=re.search('^\\d*', h3text).group()\n",
        "    # print (\"rank:\", rank )\n",
        "    # grab the $ price - dollar, zero or more digits, decimal, zero or more digits\n",
        "    price=re.search('\\$\\d*.*\\d*', h3text).group().strip('\\$')\n",
        "    # print (\"price:\", price)\n",
        "    # grab colon separated exchange followed by ticker\n",
        "    exchangeticker=re.sub(' ','', re.search('\\([A-Z]*: [A-Z]*\\)', h3text).group())\n",
        "    # print (\"exchange and ticker:\", exchangeticker)\n",
        "    exchange, ticker=re.sub('\\(|\\)','', exchangeticker).split(':')\n",
        "    # print (\"ticker:\", ticker)\n",
        "    # print (\"exchange:\", exchange)\n",
        "    # google finance compatible ticker\n",
        "    gfinanceticker=ticker+\":\"+exchange\n",
        "    # print (\"Google Finance compatible ticker:\", gfinanceticker)\n",
        "    # grab the stock shortname (this is ugly, but regex will probably not work here)\n",
        "    shortname=h3text.split('(')[0].split('.',1)[1].strip()\n",
        "    # print (shortname)\n",
        "    # print (rank, longticker, shortname, price)\n",
        "    return (rank, gfinanceticker, shortname, price)"
      ],
      "id": "precise-appraisal",
      "execution_count": 164,
      "outputs": []
    },
    {
      "cell_type": "code",
      "metadata": {
        "colab": {
          "base_uri": "https://localhost:8080/"
        },
        "id": "mediterranean-adult",
        "outputId": "8144bdb2-896f-4122-bb6c-612eb96b8035"
      },
      "source": [
        "rank, gfinanceticker, shortname, price = parseheader(h3)\n",
        "print (rank, gfinanceticker, shortname, price)"
      ],
      "id": "mediterranean-adult",
      "execution_count": 174,
      "outputs": [
        {
          "output_type": "stream",
          "text": [
            "9 PYPL:NASDAQ PayPal Holdings, Inc. 290.81\n"
          ],
          "name": "stdout"
        }
      ]
    },
    {
      "cell_type": "code",
      "metadata": {
        "colab": {
          "base_uri": "https://localhost:8080/"
        },
        "id": "excess-truth",
        "outputId": "19e75046-7453-4368-a74d-83aa96336f28"
      },
      "source": [
        "print (p.contents)"
      ],
      "id": "excess-truth",
      "execution_count": 267,
      "outputs": [
        {
          "output_type": "stream",
          "text": [
            "['Number of Hedge Funds: 147 (2020Q4)', '\\nNumber of Hedge Funds: 150 (2020Q3)', '\\nTotal Dollar Amount of Long Hedge Fund Positions: $15.96 billion', '\\nPercent of Hedge Funds with Long Positions: 16.6%', '\\nFirst Quarter Return (through February 18): 24.2%', '\\nPopularity Ranking (2020Q3): 8', '\\nPopularity Ranking (2020Q2): 9', '\\nNoteworthy Hedge Fund Shareholders: ', <a href=\"https://www.insidermonkey.com/hedge-fund/coatue+management/79/\">Philippe Laffont</a>, ',\\xa0', <a href=\"https://www.insidermonkey.com/hedge-fund/scge+management/555/\">Christopher Lyle</a>, ', ', <a href=\"https://www.insidermonkey.com/hedge-fund/fisher+asset+management/11/\">Fisher Asset Management</a>]\n"
          ],
          "name": "stdout"
        }
      ]
    },
    {
      "cell_type": "code",
      "metadata": {
        "colab": {
          "base_uri": "https://localhost:8080/"
        },
        "id": "UyiikUpLZpao",
        "outputId": "6e3a475f-9861-4933-c8bc-08cd948b5e07"
      },
      "source": [
        "print (p.text)"
      ],
      "id": "UyiikUpLZpao",
      "execution_count": 281,
      "outputs": [
        {
          "output_type": "stream",
          "text": [
            "Number of Hedge Funds: 147 (2020Q4)\n",
            "Number of Hedge Funds: 150 (2020Q3)\n",
            "Total Dollar Amount of Long Hedge Fund Positions: $15.96 billion\n",
            "Percent of Hedge Funds with Long Positions: 16.6%\n",
            "First Quarter Return (through February 18): 24.2%\n",
            "Popularity Ranking (2020Q3): 8\n",
            "Popularity Ranking (2020Q2): 9\n",
            "Noteworthy Hedge Fund Shareholders: Philippe Laffont, Christopher Lyle, Fisher Asset Management\n"
          ],
          "name": "stdout"
        }
      ]
    },
    {
      "cell_type": "code",
      "metadata": {
        "id": "static-planning"
      },
      "source": [
        "def parseparagraph(p):\n",
        "    # print (p)\n",
        "    # remove <br> tags\n",
        "    for empty in p.findAll('br'):\n",
        "      empty.extract()\n",
        "    # convert to string\n",
        "    pcontents=p.contents\n",
        "    # print (pcontents)\n",
        "    numhedgefunds2020q4 = re.search ('\\s\\d*\\s', pcontents[0]).group()\n",
        "    numhedgefunds2020q3 = re.search ('\\s\\d*\\s', pcontents[1]).group()\n",
        "    totaldollarlongpositions = re.search ('\\$\\d*.\\d*', pcontents[2]).group().strip('$')\n",
        "    percentfundslongpositions = re.search ('\\d*.\\d*%$', pcontents[3]).group().strip('%')\n",
        "    latestquarterreturn = re.search ('\\d*.\\d*%$', pcontents[4]).group().strip('%')\n",
        "    popranking2020q3 = re.search (' \\d*$', pcontents[5]).group().strip()\n",
        "    popranking2020q2 = re.search (' \\d*$', pcontents[6]).group().strip()\n",
        "    # mumble grumble....\n",
        "    # noteworthyhedgies = pcontents[7]\n",
        "    # print (numhedgefunds2020q4, numhedgefunds2020q3, totaldollarlongpositions, percentfundslongpositions, latestquarterreturn, popranking2020q3, popranking2020q2)\n",
        "    return (numhedgefunds2020q4, numhedgefunds2020q3, totaldollarlongpositions, percentfundslongpositions, latestquarterreturn, popranking2020q3, popranking2020q2)"
      ],
      "id": "static-planning",
      "execution_count": 282,
      "outputs": []
    },
    {
      "cell_type": "code",
      "metadata": {
        "colab": {
          "base_uri": "https://localhost:8080/"
        },
        "id": "ethical-mirror",
        "outputId": "edec986b-3205-4d3b-be6e-7d7a7fdf6e42"
      },
      "source": [
        "numhedgefunds2020q4, numhedgefunds2020q3, totaldollarlongpositions, percentfundslongpositions, latestquarterreturn, popranking2020q3, popranking2020q2=parseparagraph(p)\n",
        "print (numhedgefunds2020q4, numhedgefunds2020q3, totaldollarlongpositions, percentfundslongpositions, latestquarterreturn, popranking2020q3, popranking2020q2)"
      ],
      "id": "ethical-mirror",
      "execution_count": 283,
      "outputs": [
        {
          "output_type": "stream",
          "text": [
            " 147   150  15.96 16.6 24.2 8 9\n"
          ],
          "name": "stdout"
        }
      ]
    },
    {
      "cell_type": "code",
      "metadata": {
        "colab": {
          "base_uri": "https://localhost:8080/"
        },
        "id": "hiOLauCzo8PO",
        "outputId": "6032ed7e-baf5-4ed7-81e9-855b5aa10ef5"
      },
      "source": [
        "stocks={}\n",
        "# stocks\n",
        "\n",
        "for i in range(1, numstocks+1):\n",
        "    url=root+str(i)\n",
        "    # print (url)\n",
        "    if i==13: # look into this\n",
        "      print (\"Skipping:\", url)\n",
        "      continue\n",
        "    page=requests.get(url)\n",
        "    if (page.status_code == success):\n",
        "        print('Visited URL: {}'.format(page.url))\n",
        "        html = BeautifulSoup(page.content, 'html.parser')\n",
        "        # extract the <h3> tag\n",
        "        h3=html.body.h3\n",
        "        # extract the <p> tag\n",
        "        if i==1: # hack for the first page\n",
        "            p=html.select('p')[18]\n",
        "        else: p=html.body.p\n",
        "        rank, gfinanceticker, shortname, price = parseheader(h3)\n",
        "        numhedgefunds2020q4, numhedgefunds2020q3, totaldollarlongpositions, percentfundslongpositions, latestquarterreturn, popranking2020q3, popranking2020q2=parseparagraph(p)\n",
        "\n",
        "        # print (rank, gfinanceticker, shortname, price)\n",
        "        # print (numhedgefunds2020q4, numhedgefunds2020q3, totaldollarlongpositions, percentfundslongpositions, latestquarterreturn, popranking2020q3, popranking2020q2)\n",
        "        stocks[gfinanceticker]={'rank': rank, 'shortname': shortname, 'price':price, 'numhedgefunds2020q4': numhedgefunds2020q4, 'numhedgefunds2020q3': numhedgefunds2020q3, 'totaldollarlongpositions': totaldollarlongpositions, 'percentfundslongpositions': percentfundslongpositions, 'latestquarterreturn': latestquarterreturn, 'popranking2020q3': popranking2020q3, 'popranking2020q2': popranking2020q2}\n",
        "    else:\n",
        "        print ('Oops, got error: {}', format(page.status_code))\n",
        "# convert to dataframe\n",
        "df=pd.DataFrame.from_dict(stocks, orient='index')\n",
        "print (\"Done!\")"
      ],
      "id": "hiOLauCzo8PO",
      "execution_count": 336,
      "outputs": [
        {
          "output_type": "stream",
          "text": [
            "Visited URL: https://www.insidermonkey.com/blog/30-most-popular-stocks-among-hedge-funds-2020-q4-rankings-920904/\n",
            "Visited URL: https://www.insidermonkey.com/blog/30-most-popular-stocks-among-hedge-funds-2020-q4-rankings-920904/2/\n",
            "Visited URL: https://www.insidermonkey.com/blog/30-most-popular-stocks-among-hedge-funds-2020-q4-rankings-920904/3/\n",
            "Visited URL: https://www.insidermonkey.com/blog/30-most-popular-stocks-among-hedge-funds-2020-q4-rankings-920904/4/\n",
            "Visited URL: https://www.insidermonkey.com/blog/30-most-popular-stocks-among-hedge-funds-2020-q4-rankings-920904/5/\n",
            "Visited URL: https://www.insidermonkey.com/blog/30-most-popular-stocks-among-hedge-funds-2020-q4-rankings-920904/6/\n",
            "Visited URL: https://www.insidermonkey.com/blog/30-most-popular-stocks-among-hedge-funds-2020-q4-rankings-920904/7/\n",
            "Visited URL: https://www.insidermonkey.com/blog/30-most-popular-stocks-among-hedge-funds-2020-q4-rankings-920904/8/\n",
            "Visited URL: https://www.insidermonkey.com/blog/30-most-popular-stocks-among-hedge-funds-2020-q4-rankings-920904/9/\n",
            "Visited URL: https://www.insidermonkey.com/blog/30-most-popular-stocks-among-hedge-funds-2020-q4-rankings-920904/10/\n",
            "Visited URL: https://www.insidermonkey.com/blog/30-most-popular-stocks-among-hedge-funds-2020-q4-rankings-920904/11/\n",
            "Visited URL: https://www.insidermonkey.com/blog/30-most-popular-stocks-among-hedge-funds-2020-q4-rankings-920904/12/\n",
            "Skipping: https://www.insidermonkey.com/blog/30-most-popular-stocks-among-hedge-funds-2020-q4-rankings-920904/13\n",
            "Visited URL: https://www.insidermonkey.com/blog/30-most-popular-stocks-among-hedge-funds-2020-q4-rankings-920904/14/\n",
            "Visited URL: https://www.insidermonkey.com/blog/30-most-popular-stocks-among-hedge-funds-2020-q4-rankings-920904/15/\n",
            "Visited URL: https://www.insidermonkey.com/blog/30-most-popular-stocks-among-hedge-funds-2020-q4-rankings-920904/16/\n",
            "Visited URL: https://www.insidermonkey.com/blog/30-most-popular-stocks-among-hedge-funds-2020-q4-rankings-920904/17/\n",
            "Visited URL: https://www.insidermonkey.com/blog/30-most-popular-stocks-among-hedge-funds-2020-q4-rankings-920904/18/\n",
            "Visited URL: https://www.insidermonkey.com/blog/30-most-popular-stocks-among-hedge-funds-2020-q4-rankings-920904/19/\n",
            "Visited URL: https://www.insidermonkey.com/blog/30-most-popular-stocks-among-hedge-funds-2020-q4-rankings-920904/20/\n",
            "Visited URL: https://www.insidermonkey.com/blog/30-most-popular-stocks-among-hedge-funds-2020-q4-rankings-920904/21/\n",
            "Visited URL: https://www.insidermonkey.com/blog/30-most-popular-stocks-among-hedge-funds-2020-q4-rankings-920904/22/\n",
            "Visited URL: https://www.insidermonkey.com/blog/30-most-popular-stocks-among-hedge-funds-2020-q4-rankings-920904/23/\n",
            "Visited URL: https://www.insidermonkey.com/blog/30-most-popular-stocks-among-hedge-funds-2020-q4-rankings-920904/24/\n",
            "Visited URL: https://www.insidermonkey.com/blog/30-most-popular-stocks-among-hedge-funds-2020-q4-rankings-920904/25/\n",
            "Visited URL: https://www.insidermonkey.com/blog/30-most-popular-stocks-among-hedge-funds-2020-q4-rankings-920904/26/\n",
            "Visited URL: https://www.insidermonkey.com/blog/30-most-popular-stocks-among-hedge-funds-2020-q4-rankings-920904/27/\n",
            "Visited URL: https://www.insidermonkey.com/blog/30-most-popular-stocks-among-hedge-funds-2020-q4-rankings-920904/28/\n",
            "Visited URL: https://www.insidermonkey.com/blog/30-most-popular-stocks-among-hedge-funds-2020-q4-rankings-920904/29/\n",
            "Visited URL: https://www.insidermonkey.com/blog/30-most-popular-stocks-among-hedge-funds-2020-q4-rankings-920904/30/\n",
            "Done!\n"
          ],
          "name": "stdout"
        }
      ]
    },
    {
      "cell_type": "code",
      "metadata": {
        "id": "nX26HfJR2OLf",
        "outputId": "119692aa-f15b-4489-96d2-1dbe7503d82d",
        "colab": {
          "base_uri": "https://localhost:8080/"
        }
      },
      "source": [
        "print (stocks)"
      ],
      "id": "nX26HfJR2OLf",
      "execution_count": 337,
      "outputs": [
        {
          "output_type": "stream",
          "text": [
            "{'CRWD:NASDAQ': {'rank': '30', 'shortname': 'CrowdStrike Holdings, Inc.', 'price': '239.25', 'numhedgefunds2020q4': ' 92 ', 'numhedgefunds2020q3': ' 71 ', 'totaldollarlongpositions': '7.2', 'percentfundslongpositions': '10.4', 'latestquarterreturn': '12.9', 'popranking2020q3': '59', 'popranking2020q2': '41'}, 'TWLO:NYSE': {'rank': '29', 'shortname': 'Twilio Inc.', 'price': '443.49', 'numhedgefunds2020q4': '\\xa0 ', 'numhedgefunds2020q3': ' 71 ', 'totaldollarlongpositions': '5.0', 'percentfundslongpositions': '10.6', 'latestquarterreturn': ' 31', 'popranking2020q3': '60', 'popranking2020q2': '68'}, 'FISV:NASDAQ': {'rank': '28', 'shortname': 'Fiserv Inc.', 'price': '113.05', 'numhedgefunds2020q4': ' 94 ', 'numhedgefunds2020q3': ' 90 ', 'totaldollarlongpositions': '5.2', 'percentfundslongpositions': '10.6', 'latestquarterreturn': '0.71', 'popranking2020q3': '25', 'popranking2020q2': '35'}, 'PINS:NYSE': {'rank': '27', 'shortname': 'Pinterest, Inc.', 'price': '85.99', 'numhedgefunds2020q4': ' 95 ', 'numhedgefunds2020q3': ' 80 ', 'totaldollarlongpositions': '5.84', 'percentfundslongpositions': '10.7', 'latestquarterreturn': '30.5', 'popranking2020q3': '43', 'popranking2020q2': '158'}, 'C:NYSE': {'rank': '26', 'shortname': 'Citigroup Inc.', 'price': '63.48', 'numhedgefunds2020q4': ' 95 ', 'numhedgefunds2020q3': ' 91 ', 'totaldollarlongpositions': '7.12', 'percentfundslongpositions': '10.7', 'latestquarterreturn': '3.8', 'popranking2020q3': '23', 'popranking2020q2': '23'}, 'NOW:NYSE': {'rank': '25', 'shortname': 'ServiceNow, Inc.', 'price': '575.8', 'numhedgefunds2020q4': ' 96 ', 'numhedgefunds2020q3': ' 82 ', 'totaldollarlongpositions': '6.85', 'percentfundslongpositions': '10.8', 'latestquarterreturn': '4.6', 'popranking2020q3': '36', 'popranking2020q2': '34'}, 'CRM:NYSE': {'rank': '24', 'shortname': 'Salesforce.com, inc.', 'price': '247.01', 'numhedgefunds2020q4': ' 97 ', 'numhedgefunds2020q3': ' 106 ', 'totaldollarlongpositions': '10.6', 'percentfundslongpositions': '10.9', 'latestquarterreturn': ' 11', 'popranking2020q3': '16', 'popranking2020q2': '17'}, 'WFC:NYSE': {'rank': '23', 'shortname': 'Wells Fargo & Company', 'price': '36.96', 'numhedgefunds2020q4': ' 99 ', 'numhedgefunds2020q3': ' 90 ', 'totaldollarlongpositions': '8.75', 'percentfundslongpositions': '11.2', 'latestquarterreturn': '22.9', 'popranking2020q3': '24', 'popranking2020q2': '33'}, 'BAC:NYSE': {'rank': '22', 'shortname': 'Bank of America Corporation', 'price': '34.19', 'numhedgefunds2020q4': ' 99 ', 'numhedgefunds2020q3': ' 88 ', 'totaldollarlongpositions': '35.3', 'percentfundslongpositions': '11.2', 'latestquarterreturn': '12.8', 'popranking2020q3': '27', 'popranking2020q2': '29'}, 'MU:NASDAQ': {'rank': '21', 'shortname': 'Micron Technology, Inc.', 'price': '88.54', 'numhedgefunds2020q4': ' 100 ', 'numhedgefunds2020q3': ' 79 ', 'totaldollarlongpositions': '8.14', 'percentfundslongpositions': '11.3', 'latestquarterreturn': '17.8', 'popranking2020q3': '44', 'popranking2020q2': '37'}, 'TMUS:NASDAQ': {'rank': '20', 'shortname': 'T-Mobile US, Inc.', 'price': '123.04', 'numhedgefunds2020q4': ' 103 ', 'numhedgefunds2020q3': ' 94 ', 'totaldollarlongpositions': '9.1', 'percentfundslongpositions': '11.6', 'latestquarterreturn': '8.8', 'popranking2020q3': '21', 'popranking2020q2': '14'}, 'BKNG:NASDAQ': {'rank': '19', 'shortname': 'Booking Holdings Inc.', 'price': '2,259.79', 'numhedgefunds2020q4': ' 108 ', 'numhedgefunds2020q3': ' 113 ', 'totaldollarlongpositions': '8.25', 'percentfundslongpositions': '12.2', 'latestquarterreturn': '1.5', 'popranking2020q3': '13', 'popranking2020q2': '24'}, 'JPM:NYSE': {'rank': '17', 'shortname': 'JPMorgan Chase & Co.', 'price': '145.59', 'numhedgefunds2020q4': ' 112 ', 'numhedgefunds2020q3': ' 118 ', 'totaldollarlongpositions': '6.97', 'percentfundslongpositions': '12.6', 'latestquarterreturn': '15.4', 'popranking2020q3': '12', 'popranking2020q2': '12'}, 'ADBE:NASDAQ': {'rank': '16', 'shortname': 'Adobe Inc.', 'price': '488.37', 'numhedgefunds2020q4': ' 114 ', 'numhedgefunds2020q3': ' 106 ', 'totaldollarlongpositions': '11.9', 'percentfundslongpositions': '12.9', 'latestquarterreturn': '2.3', 'popranking2020q3': '17', 'popranking2020q2': '19'}, 'SE:NYSE': {'rank': '15', 'shortname': 'Sea Limited', 'price': '267.50', 'numhedgefunds2020q4': ' 115 ', 'numhedgefunds2020q3': ' 95 ', 'totaldollarlongpositions': '10.9', 'percentfundslongpositions': ' 13', 'latestquarterreturn': '34.4', 'popranking2020q3': '20', 'popranking2020q2': '38'}, 'NFLX:NASDAQ': {'rank': '14', 'shortname': 'Netflix, Inc.', 'price': '548.22', 'numhedgefunds2020q4': ' 116 ', 'numhedgefunds2020q3': ' 104 ', 'totaldollarlongpositions': '15.6', 'percentfundslongpositions': '13.1', 'latestquarterreturn': '1.4', 'popranking2020q3': '18', 'popranking2020q2': '13'}, 'BMY:NYSE': {'rank': '13', 'shortname': 'Bristol-Myers Squibb Company', 'price': '61.02', 'numhedgefunds2020q4': ' 131 ', 'numhedgefunds2020q3': ' 124 ', 'totaldollarlongpositions': '6.1', 'percentfundslongpositions': '14.8', 'latestquarterreturn': '1.6', 'popranking2020q3': '11', 'popranking2020q2': '10'}, 'UBER:NYSE': {'rank': '12', 'shortname': 'Uber Technologies, Inc.', 'price': '59', 'numhedgefunds2020q4': ' 135 ', 'numhedgefunds2020q3': ' 100 ', 'totaldollarlongpositions': '10.1', 'percentfundslongpositions': '15.2', 'latestquarterreturn': '15.7', 'popranking2020q3': '19', 'popranking2020q2': '25'}, 'DIS:NYSE': {'rank': '11', 'shortname': 'The Walt Disney Company', 'price': '183', 'numhedgefunds2020q4': ' 144 ', 'numhedgefunds2020q3': ' 112 ', 'totaldollarlongpositions': '16.42', 'percentfundslongpositions': '16.2', 'latestquarterreturn': '1.0', 'popranking2020q3': '14', 'popranking2020q2': '18'}, 'AAPL:NASDAQ': {'rank': '10', 'shortname': 'Apple Inc.', 'price': '129.71', 'numhedgefunds2020q4': ' 146 ', 'numhedgefunds2020q3': ' 134 ', 'totaldollarlongpositions': '141.8', 'percentfundslongpositions': '16.5', 'latestquarterreturn': '2.1', 'popranking2020q3': '9', 'popranking2020q2': '11'}, 'PYPL:NASDAQ': {'rank': '9', 'shortname': 'PayPal Holdings, Inc.', 'price': '290.81', 'numhedgefunds2020q4': ' 147 ', 'numhedgefunds2020q3': ' 150 ', 'totaldollarlongpositions': '15.96', 'percentfundslongpositions': '16.6', 'latestquarterreturn': '24.2', 'popranking2020q3': '8', 'popranking2020q2': '9'}, 'MA:NYSE': {'rank': '8', 'shortname': 'Mastercard Incorporated', 'price': '338.46', 'numhedgefunds2020q4': ' 154 ', 'numhedgefunds2020q3': ' 133 ', 'totaldollarlongpositions': '18 ', 'percentfundslongpositions': '17.4', 'latestquarterreturn': '5.1', 'popranking2020q3': '10', 'popranking2020q2': '7'}, 'BABA:NYSE': {'rank': '7', 'shortname': 'Alibaba Group Holding Limited', 'price': '264.51', 'numhedgefunds2020q4': ' 156 ', 'numhedgefunds2020q3': ' 166 ', 'totaldollarlongpositions': '17.9', 'percentfundslongpositions': '17.6', 'latestquarterreturn': '13.7', 'popranking2020q3': '4', 'popranking2020q2': '5'}, 'GOOG:NASDAQ': {'rank': '6', 'shortname': 'Alphabet Inc. Class C', 'price': '2,117.20', 'numhedgefunds2020q4': ' 157 ', 'numhedgefunds2020q3': ' 150 ', 'totaldollarlongpositions': '20.6', 'percentfundslongpositions': '17.7', 'latestquarterreturn': '20.9', 'popranking2020q3': '7', 'popranking2020q2': '8'}, 'V:NYSE': {'rank': '5', 'shortname': 'Visa Inc.', 'price': '209.35', 'numhedgefunds2020q4': ' 166 ', 'numhedgefunds2020q3': ' 160 ', 'totaldollarlongpositions': '23.6', 'percentfundslongpositions': '18.7', 'latestquarterreturn': '4.1', 'popranking2020q3': '6', 'popranking2020q2': '6'}, 'GOOGL:NASDAQ': {'rank': '4', 'shortname': 'Alphabet Inc. Class A', 'price': '2,105.81', 'numhedgefunds2020q4': ' 179 ', 'numhedgefunds2020q3': ' 162 ', 'totaldollarlongpositions': '21.9', 'percentfundslongpositions': '20.2', 'latestquarterreturn': '20.2', 'popranking2020q3': '5', 'popranking2020q2': '4'}, 'FB:NASDAQ': {'rank': '3', 'shortname': 'Facebook, Inc.', 'price': '269.39', 'numhedgefunds2020q4': ' 242 ', 'numhedgefunds2020q3': ' 230 ', 'totaldollarlongpositions': '38.23', 'percentfundslongpositions': '27.3', 'latestquarterreturn': '1.4', 'popranking2020q3': '3', 'popranking2020q2': '3'}, 'MSFT:NASDAQ': {'rank': '2', 'shortname': 'Microsoft Corporation', 'price': '243.79', 'numhedgefunds2020q4': ' 258 ', 'numhedgefunds2020q3': ' 234 ', 'totaldollarlongpositions': '52.9', 'percentfundslongpositions': '29.1', 'latestquarterreturn': '9.9', 'popranking2020q3': '2', 'popranking2020q2': '2'}, 'AMZN:NASDAQ': {'rank': '1', 'shortname': 'Amazon.com, Inc.', 'price': '3,328.23', 'numhedgefunds2020q4': ' 273 ', 'numhedgefunds2020q3': ' 245 ', 'totaldollarlongpositions': '51.5', 'percentfundslongpositions': '30.8', 'latestquarterreturn': '2.2', 'popranking2020q3': '1', 'popranking2020q2': '1'}}\n"
          ],
          "name": "stdout"
        }
      ]
    },
    {
      "cell_type": "code",
      "metadata": {
        "id": "5ohEsJXt6AlR",
        "outputId": "0eb196c7-7cfb-4d5f-8a94-e19287ef62ab",
        "colab": {
          "base_uri": "https://localhost:8080/"
        }
      },
      "source": [
        "print (len(stocks))"
      ],
      "id": "5ohEsJXt6AlR",
      "execution_count": 338,
      "outputs": [
        {
          "output_type": "stream",
          "text": [
            "29\n"
          ],
          "name": "stdout"
        }
      ]
    },
    {
      "cell_type": "code",
      "metadata": {
        "id": "4iKmk-hp2hfa",
        "outputId": "0cf28007-32bc-4828-b5af-9ba3d7532d2c",
        "colab": {
          "base_uri": "https://localhost:8080/",
          "height": 1000
        }
      },
      "source": [
        "df"
      ],
      "id": "4iKmk-hp2hfa",
      "execution_count": 339,
      "outputs": [
        {
          "output_type": "execute_result",
          "data": {
            "text/html": [
              "<div>\n",
              "<style scoped>\n",
              "    .dataframe tbody tr th:only-of-type {\n",
              "        vertical-align: middle;\n",
              "    }\n",
              "\n",
              "    .dataframe tbody tr th {\n",
              "        vertical-align: top;\n",
              "    }\n",
              "\n",
              "    .dataframe thead th {\n",
              "        text-align: right;\n",
              "    }\n",
              "</style>\n",
              "<table border=\"1\" class=\"dataframe\">\n",
              "  <thead>\n",
              "    <tr style=\"text-align: right;\">\n",
              "      <th></th>\n",
              "      <th>rank</th>\n",
              "      <th>shortname</th>\n",
              "      <th>price</th>\n",
              "      <th>numhedgefunds2020q4</th>\n",
              "      <th>numhedgefunds2020q3</th>\n",
              "      <th>totaldollarlongpositions</th>\n",
              "      <th>percentfundslongpositions</th>\n",
              "      <th>latestquarterreturn</th>\n",
              "      <th>popranking2020q3</th>\n",
              "      <th>popranking2020q2</th>\n",
              "    </tr>\n",
              "  </thead>\n",
              "  <tbody>\n",
              "    <tr>\n",
              "      <th>CRWD:NASDAQ</th>\n",
              "      <td>30</td>\n",
              "      <td>CrowdStrike Holdings, Inc.</td>\n",
              "      <td>239.25</td>\n",
              "      <td>92</td>\n",
              "      <td>71</td>\n",
              "      <td>7.2</td>\n",
              "      <td>10.4</td>\n",
              "      <td>12.9</td>\n",
              "      <td>59</td>\n",
              "      <td>41</td>\n",
              "    </tr>\n",
              "    <tr>\n",
              "      <th>TWLO:NYSE</th>\n",
              "      <td>29</td>\n",
              "      <td>Twilio Inc.</td>\n",
              "      <td>443.49</td>\n",
              "      <td></td>\n",
              "      <td>71</td>\n",
              "      <td>5.0</td>\n",
              "      <td>10.6</td>\n",
              "      <td>31</td>\n",
              "      <td>60</td>\n",
              "      <td>68</td>\n",
              "    </tr>\n",
              "    <tr>\n",
              "      <th>FISV:NASDAQ</th>\n",
              "      <td>28</td>\n",
              "      <td>Fiserv Inc.</td>\n",
              "      <td>113.05</td>\n",
              "      <td>94</td>\n",
              "      <td>90</td>\n",
              "      <td>5.2</td>\n",
              "      <td>10.6</td>\n",
              "      <td>0.71</td>\n",
              "      <td>25</td>\n",
              "      <td>35</td>\n",
              "    </tr>\n",
              "    <tr>\n",
              "      <th>PINS:NYSE</th>\n",
              "      <td>27</td>\n",
              "      <td>Pinterest, Inc.</td>\n",
              "      <td>85.99</td>\n",
              "      <td>95</td>\n",
              "      <td>80</td>\n",
              "      <td>5.84</td>\n",
              "      <td>10.7</td>\n",
              "      <td>30.5</td>\n",
              "      <td>43</td>\n",
              "      <td>158</td>\n",
              "    </tr>\n",
              "    <tr>\n",
              "      <th>C:NYSE</th>\n",
              "      <td>26</td>\n",
              "      <td>Citigroup Inc.</td>\n",
              "      <td>63.48</td>\n",
              "      <td>95</td>\n",
              "      <td>91</td>\n",
              "      <td>7.12</td>\n",
              "      <td>10.7</td>\n",
              "      <td>3.8</td>\n",
              "      <td>23</td>\n",
              "      <td>23</td>\n",
              "    </tr>\n",
              "    <tr>\n",
              "      <th>NOW:NYSE</th>\n",
              "      <td>25</td>\n",
              "      <td>ServiceNow, Inc.</td>\n",
              "      <td>575.8</td>\n",
              "      <td>96</td>\n",
              "      <td>82</td>\n",
              "      <td>6.85</td>\n",
              "      <td>10.8</td>\n",
              "      <td>4.6</td>\n",
              "      <td>36</td>\n",
              "      <td>34</td>\n",
              "    </tr>\n",
              "    <tr>\n",
              "      <th>CRM:NYSE</th>\n",
              "      <td>24</td>\n",
              "      <td>Salesforce.com, inc.</td>\n",
              "      <td>247.01</td>\n",
              "      <td>97</td>\n",
              "      <td>106</td>\n",
              "      <td>10.6</td>\n",
              "      <td>10.9</td>\n",
              "      <td>11</td>\n",
              "      <td>16</td>\n",
              "      <td>17</td>\n",
              "    </tr>\n",
              "    <tr>\n",
              "      <th>WFC:NYSE</th>\n",
              "      <td>23</td>\n",
              "      <td>Wells Fargo &amp; Company</td>\n",
              "      <td>36.96</td>\n",
              "      <td>99</td>\n",
              "      <td>90</td>\n",
              "      <td>8.75</td>\n",
              "      <td>11.2</td>\n",
              "      <td>22.9</td>\n",
              "      <td>24</td>\n",
              "      <td>33</td>\n",
              "    </tr>\n",
              "    <tr>\n",
              "      <th>BAC:NYSE</th>\n",
              "      <td>22</td>\n",
              "      <td>Bank of America Corporation</td>\n",
              "      <td>34.19</td>\n",
              "      <td>99</td>\n",
              "      <td>88</td>\n",
              "      <td>35.3</td>\n",
              "      <td>11.2</td>\n",
              "      <td>12.8</td>\n",
              "      <td>27</td>\n",
              "      <td>29</td>\n",
              "    </tr>\n",
              "    <tr>\n",
              "      <th>MU:NASDAQ</th>\n",
              "      <td>21</td>\n",
              "      <td>Micron Technology, Inc.</td>\n",
              "      <td>88.54</td>\n",
              "      <td>100</td>\n",
              "      <td>79</td>\n",
              "      <td>8.14</td>\n",
              "      <td>11.3</td>\n",
              "      <td>17.8</td>\n",
              "      <td>44</td>\n",
              "      <td>37</td>\n",
              "    </tr>\n",
              "    <tr>\n",
              "      <th>TMUS:NASDAQ</th>\n",
              "      <td>20</td>\n",
              "      <td>T-Mobile US, Inc.</td>\n",
              "      <td>123.04</td>\n",
              "      <td>103</td>\n",
              "      <td>94</td>\n",
              "      <td>9.1</td>\n",
              "      <td>11.6</td>\n",
              "      <td>8.8</td>\n",
              "      <td>21</td>\n",
              "      <td>14</td>\n",
              "    </tr>\n",
              "    <tr>\n",
              "      <th>BKNG:NASDAQ</th>\n",
              "      <td>19</td>\n",
              "      <td>Booking Holdings Inc.</td>\n",
              "      <td>2,259.79</td>\n",
              "      <td>108</td>\n",
              "      <td>113</td>\n",
              "      <td>8.25</td>\n",
              "      <td>12.2</td>\n",
              "      <td>1.5</td>\n",
              "      <td>13</td>\n",
              "      <td>24</td>\n",
              "    </tr>\n",
              "    <tr>\n",
              "      <th>JPM:NYSE</th>\n",
              "      <td>17</td>\n",
              "      <td>JPMorgan Chase &amp; Co.</td>\n",
              "      <td>145.59</td>\n",
              "      <td>112</td>\n",
              "      <td>118</td>\n",
              "      <td>6.97</td>\n",
              "      <td>12.6</td>\n",
              "      <td>15.4</td>\n",
              "      <td>12</td>\n",
              "      <td>12</td>\n",
              "    </tr>\n",
              "    <tr>\n",
              "      <th>ADBE:NASDAQ</th>\n",
              "      <td>16</td>\n",
              "      <td>Adobe Inc.</td>\n",
              "      <td>488.37</td>\n",
              "      <td>114</td>\n",
              "      <td>106</td>\n",
              "      <td>11.9</td>\n",
              "      <td>12.9</td>\n",
              "      <td>2.3</td>\n",
              "      <td>17</td>\n",
              "      <td>19</td>\n",
              "    </tr>\n",
              "    <tr>\n",
              "      <th>SE:NYSE</th>\n",
              "      <td>15</td>\n",
              "      <td>Sea Limited</td>\n",
              "      <td>267.50</td>\n",
              "      <td>115</td>\n",
              "      <td>95</td>\n",
              "      <td>10.9</td>\n",
              "      <td>13</td>\n",
              "      <td>34.4</td>\n",
              "      <td>20</td>\n",
              "      <td>38</td>\n",
              "    </tr>\n",
              "    <tr>\n",
              "      <th>NFLX:NASDAQ</th>\n",
              "      <td>14</td>\n",
              "      <td>Netflix, Inc.</td>\n",
              "      <td>548.22</td>\n",
              "      <td>116</td>\n",
              "      <td>104</td>\n",
              "      <td>15.6</td>\n",
              "      <td>13.1</td>\n",
              "      <td>1.4</td>\n",
              "      <td>18</td>\n",
              "      <td>13</td>\n",
              "    </tr>\n",
              "    <tr>\n",
              "      <th>BMY:NYSE</th>\n",
              "      <td>13</td>\n",
              "      <td>Bristol-Myers Squibb Company</td>\n",
              "      <td>61.02</td>\n",
              "      <td>131</td>\n",
              "      <td>124</td>\n",
              "      <td>6.1</td>\n",
              "      <td>14.8</td>\n",
              "      <td>1.6</td>\n",
              "      <td>11</td>\n",
              "      <td>10</td>\n",
              "    </tr>\n",
              "    <tr>\n",
              "      <th>UBER:NYSE</th>\n",
              "      <td>12</td>\n",
              "      <td>Uber Technologies, Inc.</td>\n",
              "      <td>59</td>\n",
              "      <td>135</td>\n",
              "      <td>100</td>\n",
              "      <td>10.1</td>\n",
              "      <td>15.2</td>\n",
              "      <td>15.7</td>\n",
              "      <td>19</td>\n",
              "      <td>25</td>\n",
              "    </tr>\n",
              "    <tr>\n",
              "      <th>DIS:NYSE</th>\n",
              "      <td>11</td>\n",
              "      <td>The Walt Disney Company</td>\n",
              "      <td>183</td>\n",
              "      <td>144</td>\n",
              "      <td>112</td>\n",
              "      <td>16.42</td>\n",
              "      <td>16.2</td>\n",
              "      <td>1.0</td>\n",
              "      <td>14</td>\n",
              "      <td>18</td>\n",
              "    </tr>\n",
              "    <tr>\n",
              "      <th>AAPL:NASDAQ</th>\n",
              "      <td>10</td>\n",
              "      <td>Apple Inc.</td>\n",
              "      <td>129.71</td>\n",
              "      <td>146</td>\n",
              "      <td>134</td>\n",
              "      <td>141.8</td>\n",
              "      <td>16.5</td>\n",
              "      <td>2.1</td>\n",
              "      <td>9</td>\n",
              "      <td>11</td>\n",
              "    </tr>\n",
              "    <tr>\n",
              "      <th>PYPL:NASDAQ</th>\n",
              "      <td>9</td>\n",
              "      <td>PayPal Holdings, Inc.</td>\n",
              "      <td>290.81</td>\n",
              "      <td>147</td>\n",
              "      <td>150</td>\n",
              "      <td>15.96</td>\n",
              "      <td>16.6</td>\n",
              "      <td>24.2</td>\n",
              "      <td>8</td>\n",
              "      <td>9</td>\n",
              "    </tr>\n",
              "    <tr>\n",
              "      <th>MA:NYSE</th>\n",
              "      <td>8</td>\n",
              "      <td>Mastercard Incorporated</td>\n",
              "      <td>338.46</td>\n",
              "      <td>154</td>\n",
              "      <td>133</td>\n",
              "      <td>18</td>\n",
              "      <td>17.4</td>\n",
              "      <td>5.1</td>\n",
              "      <td>10</td>\n",
              "      <td>7</td>\n",
              "    </tr>\n",
              "    <tr>\n",
              "      <th>BABA:NYSE</th>\n",
              "      <td>7</td>\n",
              "      <td>Alibaba Group Holding Limited</td>\n",
              "      <td>264.51</td>\n",
              "      <td>156</td>\n",
              "      <td>166</td>\n",
              "      <td>17.9</td>\n",
              "      <td>17.6</td>\n",
              "      <td>13.7</td>\n",
              "      <td>4</td>\n",
              "      <td>5</td>\n",
              "    </tr>\n",
              "    <tr>\n",
              "      <th>GOOG:NASDAQ</th>\n",
              "      <td>6</td>\n",
              "      <td>Alphabet Inc. Class C</td>\n",
              "      <td>2,117.20</td>\n",
              "      <td>157</td>\n",
              "      <td>150</td>\n",
              "      <td>20.6</td>\n",
              "      <td>17.7</td>\n",
              "      <td>20.9</td>\n",
              "      <td>7</td>\n",
              "      <td>8</td>\n",
              "    </tr>\n",
              "    <tr>\n",
              "      <th>V:NYSE</th>\n",
              "      <td>5</td>\n",
              "      <td>Visa Inc.</td>\n",
              "      <td>209.35</td>\n",
              "      <td>166</td>\n",
              "      <td>160</td>\n",
              "      <td>23.6</td>\n",
              "      <td>18.7</td>\n",
              "      <td>4.1</td>\n",
              "      <td>6</td>\n",
              "      <td>6</td>\n",
              "    </tr>\n",
              "    <tr>\n",
              "      <th>GOOGL:NASDAQ</th>\n",
              "      <td>4</td>\n",
              "      <td>Alphabet Inc. Class A</td>\n",
              "      <td>2,105.81</td>\n",
              "      <td>179</td>\n",
              "      <td>162</td>\n",
              "      <td>21.9</td>\n",
              "      <td>20.2</td>\n",
              "      <td>20.2</td>\n",
              "      <td>5</td>\n",
              "      <td>4</td>\n",
              "    </tr>\n",
              "    <tr>\n",
              "      <th>FB:NASDAQ</th>\n",
              "      <td>3</td>\n",
              "      <td>Facebook, Inc.</td>\n",
              "      <td>269.39</td>\n",
              "      <td>242</td>\n",
              "      <td>230</td>\n",
              "      <td>38.23</td>\n",
              "      <td>27.3</td>\n",
              "      <td>1.4</td>\n",
              "      <td>3</td>\n",
              "      <td>3</td>\n",
              "    </tr>\n",
              "    <tr>\n",
              "      <th>MSFT:NASDAQ</th>\n",
              "      <td>2</td>\n",
              "      <td>Microsoft Corporation</td>\n",
              "      <td>243.79</td>\n",
              "      <td>258</td>\n",
              "      <td>234</td>\n",
              "      <td>52.9</td>\n",
              "      <td>29.1</td>\n",
              "      <td>9.9</td>\n",
              "      <td>2</td>\n",
              "      <td>2</td>\n",
              "    </tr>\n",
              "    <tr>\n",
              "      <th>AMZN:NASDAQ</th>\n",
              "      <td>1</td>\n",
              "      <td>Amazon.com, Inc.</td>\n",
              "      <td>3,328.23</td>\n",
              "      <td>273</td>\n",
              "      <td>245</td>\n",
              "      <td>51.5</td>\n",
              "      <td>30.8</td>\n",
              "      <td>2.2</td>\n",
              "      <td>1</td>\n",
              "      <td>1</td>\n",
              "    </tr>\n",
              "  </tbody>\n",
              "</table>\n",
              "</div>"
            ],
            "text/plain": [
              "             rank  ... popranking2020q2\n",
              "CRWD:NASDAQ    30  ...               41\n",
              "TWLO:NYSE      29  ...               68\n",
              "FISV:NASDAQ    28  ...               35\n",
              "PINS:NYSE      27  ...              158\n",
              "C:NYSE         26  ...               23\n",
              "NOW:NYSE       25  ...               34\n",
              "CRM:NYSE       24  ...               17\n",
              "WFC:NYSE       23  ...               33\n",
              "BAC:NYSE       22  ...               29\n",
              "MU:NASDAQ      21  ...               37\n",
              "TMUS:NASDAQ    20  ...               14\n",
              "BKNG:NASDAQ    19  ...               24\n",
              "JPM:NYSE       17  ...               12\n",
              "ADBE:NASDAQ    16  ...               19\n",
              "SE:NYSE        15  ...               38\n",
              "NFLX:NASDAQ    14  ...               13\n",
              "BMY:NYSE       13  ...               10\n",
              "UBER:NYSE      12  ...               25\n",
              "DIS:NYSE       11  ...               18\n",
              "AAPL:NASDAQ    10  ...               11\n",
              "PYPL:NASDAQ     9  ...                9\n",
              "MA:NYSE         8  ...                7\n",
              "BABA:NYSE       7  ...                5\n",
              "GOOG:NASDAQ     6  ...                8\n",
              "V:NYSE          5  ...                6\n",
              "GOOGL:NASDAQ    4  ...                4\n",
              "FB:NASDAQ       3  ...                3\n",
              "MSFT:NASDAQ     2  ...                2\n",
              "AMZN:NASDAQ     1  ...                1\n",
              "\n",
              "[29 rows x 10 columns]"
            ]
          },
          "metadata": {
            "tags": []
          },
          "execution_count": 339
        }
      ]
    },
    {
      "cell_type": "code",
      "metadata": {
        "id": "BFj2E9BJ03oN",
        "outputId": "9acd2497-5698-4e34-d6ce-a8a922eea41c",
        "colab": {
          "base_uri": "https://localhost:8080/"
        }
      },
      "source": [
        "df.info()"
      ],
      "id": "BFj2E9BJ03oN",
      "execution_count": 340,
      "outputs": [
        {
          "output_type": "stream",
          "text": [
            "<class 'pandas.core.frame.DataFrame'>\n",
            "Index: 29 entries, CRWD:NASDAQ to AMZN:NASDAQ\n",
            "Data columns (total 10 columns):\n",
            " #   Column                     Non-Null Count  Dtype \n",
            "---  ------                     --------------  ----- \n",
            " 0   rank                       29 non-null     object\n",
            " 1   shortname                  29 non-null     object\n",
            " 2   price                      29 non-null     object\n",
            " 3   numhedgefunds2020q4        29 non-null     object\n",
            " 4   numhedgefunds2020q3        29 non-null     object\n",
            " 5   totaldollarlongpositions   29 non-null     object\n",
            " 6   percentfundslongpositions  29 non-null     object\n",
            " 7   latestquarterreturn        29 non-null     object\n",
            " 8   popranking2020q3           29 non-null     object\n",
            " 9   popranking2020q2           29 non-null     object\n",
            "dtypes: object(10)\n",
            "memory usage: 2.5+ KB\n"
          ],
          "name": "stdout"
        }
      ]
    },
    {
      "cell_type": "code",
      "metadata": {
        "id": "apqgd6gx7AJM"
      },
      "source": [
        "df.to_csv('insidermonkeytop29.csv', index=False)"
      ],
      "id": "apqgd6gx7AJM",
      "execution_count": 346,
      "outputs": []
    },
    {
      "cell_type": "code",
      "metadata": {
        "id": "jQhmIyQM7QEs",
        "outputId": "adfb548d-fbe9-49e2-8fc7-3d20394f196c",
        "colab": {
          "base_uri": "https://localhost:8080/"
        }
      },
      "source": [
        "!cat insidermonkeytop29.csv"
      ],
      "id": "jQhmIyQM7QEs",
      "execution_count": 347,
      "outputs": [
        {
          "output_type": "stream",
          "text": [
            "rank,shortname,price,numhedgefunds2020q4,numhedgefunds2020q3,totaldollarlongpositions,percentfundslongpositions,latestquarterreturn,popranking2020q3,popranking2020q2\n",
            "30,\"CrowdStrike Holdings, Inc.\",239.25, 92 , 71 ,7.2,10.4,12.9,59,41\n",
            "29,Twilio Inc.,443.49,  , 71 ,5.0,10.6, 31,60,68\n",
            "28,Fiserv Inc.,113.05, 94 , 90 ,5.2,10.6,0.71,25,35\n",
            "27,\"Pinterest, Inc.\",85.99, 95 , 80 ,5.84,10.7,30.5,43,158\n",
            "26,Citigroup Inc.,63.48, 95 , 91 ,7.12,10.7,3.8,23,23\n",
            "25,\"ServiceNow, Inc.\",575.8, 96 , 82 ,6.85,10.8,4.6,36,34\n",
            "24,\"Salesforce.com, inc.\",247.01, 97 , 106 ,10.6,10.9, 11,16,17\n",
            "23,Wells Fargo & Company,36.96, 99 , 90 ,8.75,11.2,22.9,24,33\n",
            "22,Bank of America Corporation,34.19, 99 , 88 ,35.3,11.2,12.8,27,29\n",
            "21,\"Micron Technology, Inc.\",88.54, 100 , 79 ,8.14,11.3,17.8,44,37\n",
            "20,\"T-Mobile US, Inc.\",123.04, 103 , 94 ,9.1,11.6,8.8,21,14\n",
            "19,Booking Holdings Inc.,\"2,259.79\", 108 , 113 ,8.25,12.2,1.5,13,24\n",
            "17,JPMorgan Chase & Co.,145.59, 112 , 118 ,6.97,12.6,15.4,12,12\n",
            "16,Adobe Inc.,488.37, 114 , 106 ,11.9,12.9,2.3,17,19\n",
            "15,Sea Limited,267.50, 115 , 95 ,10.9, 13,34.4,20,38\n",
            "14,\"Netflix, Inc.\",548.22, 116 , 104 ,15.6,13.1,1.4,18,13\n",
            "13,Bristol-Myers Squibb Company,61.02, 131 , 124 ,6.1,14.8,1.6,11,10\n",
            "12,\"Uber Technologies, Inc.\",59, 135 , 100 ,10.1,15.2,15.7,19,25\n",
            "11,The Walt Disney Company,183, 144 , 112 ,16.42,16.2,1.0,14,18\n",
            "10,Apple Inc.,129.71, 146 , 134 ,141.8,16.5,2.1,9,11\n",
            "9,\"PayPal Holdings, Inc.\",290.81, 147 , 150 ,15.96,16.6,24.2,8,9\n",
            "8,Mastercard Incorporated,338.46, 154 , 133 ,18 ,17.4,5.1,10,7\n",
            "7,Alibaba Group Holding Limited,264.51, 156 , 166 ,17.9,17.6,13.7,4,5\n",
            "6,Alphabet Inc. Class C,\"2,117.20\", 157 , 150 ,20.6,17.7,20.9,7,8\n",
            "5,Visa Inc.,209.35, 166 , 160 ,23.6,18.7,4.1,6,6\n",
            "4,Alphabet Inc. Class A,\"2,105.81\", 179 , 162 ,21.9,20.2,20.2,5,4\n",
            "3,\"Facebook, Inc.\",269.39, 242 , 230 ,38.23,27.3,1.4,3,3\n",
            "2,Microsoft Corporation,243.79, 258 , 234 ,52.9,29.1,9.9,2,2\n",
            "1,\"Amazon.com, Inc.\",\"3,328.23\", 273 , 245 ,51.5,30.8,2.2,1,1\n"
          ],
          "name": "stdout"
        }
      ]
    }
  ]
}