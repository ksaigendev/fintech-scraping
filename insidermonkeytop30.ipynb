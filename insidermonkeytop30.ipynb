{
  "nbformat": 4,
  "nbformat_minor": 5,
  "metadata": {
    "kernelspec": {
      "display_name": "Python 3",
      "language": "python",
      "name": "python3"
    },
    "language_info": {
      "codemirror_mode": {
        "name": "ipython",
        "version": 3
      },
      "file_extension": ".py",
      "mimetype": "text/x-python",
      "name": "python",
      "nbconvert_exporter": "python",
      "pygments_lexer": "ipython3",
      "version": "3.6.13"
    },
    "colab": {
      "name": "insidermonkeytop30.ipynb",
      "provenance": []
    }
  },
  "cells": [
    {
      "cell_type": "code",
      "metadata": {
        "id": "leading-lotus"
      },
      "source": [
        "# fetching web pages\n",
        "import requests\n",
        "# getting/processing html from pages\n",
        "from bs4 import BeautifulSoup\n",
        "# processing text with regular expressions\n",
        "import re\n",
        "# dataframes and writing to csv\n",
        "import pandas as pd"
      ],
      "id": "leading-lotus",
      "execution_count": 1,
      "outputs": []
    },
    {
      "cell_type": "code",
      "metadata": {
        "id": "southeast-bench"
      },
      "source": [
        "# setup variables\n",
        "# base url\n",
        "root='https://www.insidermonkey.com/blog/30-most-popular-stocks-among-hedge-funds-2020-q4-rankings-920904/'\n",
        "# how many stocks are there\n",
        "numstocks=30\n",
        "# target tags\n",
        "targettags=['h3', 'p']\n",
        "# success code\n",
        "success=200"
      ],
      "id": "southeast-bench",
      "execution_count": 2,
      "outputs": []
    },
    {
      "cell_type": "code",
      "metadata": {
        "colab": {
          "base_uri": "https://localhost:8080/"
        },
        "id": "distinguished-spotlight",
        "outputId": "5ef30a91-2135-4f2a-e39b-8292329f0592"
      },
      "source": [
        "# check\n",
        "for i in range(1, numstocks+1):\n",
        "    url=root+str(i)\n",
        "    print (url)"
      ],
      "id": "distinguished-spotlight",
      "execution_count": 3,
      "outputs": [
        {
          "output_type": "stream",
          "text": [
            "https://www.insidermonkey.com/blog/30-most-popular-stocks-among-hedge-funds-2020-q4-rankings-920904/1\n",
            "https://www.insidermonkey.com/blog/30-most-popular-stocks-among-hedge-funds-2020-q4-rankings-920904/2\n",
            "https://www.insidermonkey.com/blog/30-most-popular-stocks-among-hedge-funds-2020-q4-rankings-920904/3\n",
            "https://www.insidermonkey.com/blog/30-most-popular-stocks-among-hedge-funds-2020-q4-rankings-920904/4\n",
            "https://www.insidermonkey.com/blog/30-most-popular-stocks-among-hedge-funds-2020-q4-rankings-920904/5\n",
            "https://www.insidermonkey.com/blog/30-most-popular-stocks-among-hedge-funds-2020-q4-rankings-920904/6\n",
            "https://www.insidermonkey.com/blog/30-most-popular-stocks-among-hedge-funds-2020-q4-rankings-920904/7\n",
            "https://www.insidermonkey.com/blog/30-most-popular-stocks-among-hedge-funds-2020-q4-rankings-920904/8\n",
            "https://www.insidermonkey.com/blog/30-most-popular-stocks-among-hedge-funds-2020-q4-rankings-920904/9\n",
            "https://www.insidermonkey.com/blog/30-most-popular-stocks-among-hedge-funds-2020-q4-rankings-920904/10\n",
            "https://www.insidermonkey.com/blog/30-most-popular-stocks-among-hedge-funds-2020-q4-rankings-920904/11\n",
            "https://www.insidermonkey.com/blog/30-most-popular-stocks-among-hedge-funds-2020-q4-rankings-920904/12\n",
            "https://www.insidermonkey.com/blog/30-most-popular-stocks-among-hedge-funds-2020-q4-rankings-920904/13\n",
            "https://www.insidermonkey.com/blog/30-most-popular-stocks-among-hedge-funds-2020-q4-rankings-920904/14\n",
            "https://www.insidermonkey.com/blog/30-most-popular-stocks-among-hedge-funds-2020-q4-rankings-920904/15\n",
            "https://www.insidermonkey.com/blog/30-most-popular-stocks-among-hedge-funds-2020-q4-rankings-920904/16\n",
            "https://www.insidermonkey.com/blog/30-most-popular-stocks-among-hedge-funds-2020-q4-rankings-920904/17\n",
            "https://www.insidermonkey.com/blog/30-most-popular-stocks-among-hedge-funds-2020-q4-rankings-920904/18\n",
            "https://www.insidermonkey.com/blog/30-most-popular-stocks-among-hedge-funds-2020-q4-rankings-920904/19\n",
            "https://www.insidermonkey.com/blog/30-most-popular-stocks-among-hedge-funds-2020-q4-rankings-920904/20\n",
            "https://www.insidermonkey.com/blog/30-most-popular-stocks-among-hedge-funds-2020-q4-rankings-920904/21\n",
            "https://www.insidermonkey.com/blog/30-most-popular-stocks-among-hedge-funds-2020-q4-rankings-920904/22\n",
            "https://www.insidermonkey.com/blog/30-most-popular-stocks-among-hedge-funds-2020-q4-rankings-920904/23\n",
            "https://www.insidermonkey.com/blog/30-most-popular-stocks-among-hedge-funds-2020-q4-rankings-920904/24\n",
            "https://www.insidermonkey.com/blog/30-most-popular-stocks-among-hedge-funds-2020-q4-rankings-920904/25\n",
            "https://www.insidermonkey.com/blog/30-most-popular-stocks-among-hedge-funds-2020-q4-rankings-920904/26\n",
            "https://www.insidermonkey.com/blog/30-most-popular-stocks-among-hedge-funds-2020-q4-rankings-920904/27\n",
            "https://www.insidermonkey.com/blog/30-most-popular-stocks-among-hedge-funds-2020-q4-rankings-920904/28\n",
            "https://www.insidermonkey.com/blog/30-most-popular-stocks-among-hedge-funds-2020-q4-rankings-920904/29\n",
            "https://www.insidermonkey.com/blog/30-most-popular-stocks-among-hedge-funds-2020-q4-rankings-920904/30\n"
          ],
          "name": "stdout"
        }
      ]
    },
    {
      "cell_type": "code",
      "metadata": {
        "id": "eWJ83eR16oZP",
        "colab": {
          "base_uri": "https://localhost:8080/"
        },
        "outputId": "fbe16e30-10ca-4f74-f9ef-debdc3608d38"
      },
      "source": [
        "print (h3)"
      ],
      "id": "eWJ83eR16oZP",
      "execution_count": null,
      "outputs": [
        {
          "output_type": "stream",
          "text": [
            "<h3 style=\"text-align: justify;\">1.  Amazon.com, Inc. (NASDAQ: <a href=\"https://www.insidermonkey.com/insider-trading/company/amazon%20com%20inc/1018724/\">AMZN</a>): $3,328.23</h3>\n"
          ],
          "name": "stdout"
        }
      ]
    },
    {
      "cell_type": "code",
      "metadata": {
        "id": "qnmqsEbj6ovQ",
        "colab": {
          "base_uri": "https://localhost:8080/"
        },
        "outputId": "1cd61927-f7dd-4dd5-8df2-d2ab38343c8a"
      },
      "source": [
        "print (h3.text)"
      ],
      "id": "qnmqsEbj6ovQ",
      "execution_count": 14,
      "outputs": [
        {
          "output_type": "stream",
          "text": [
            "29. Twilio Inc. (NYSE: TWLO): $443.49\n"
          ],
          "name": "stdout"
        }
      ]
    },
    {
      "cell_type": "code",
      "metadata": {
        "id": "precise-appraisal"
      },
      "source": [
        "def parseheader(h3):\n",
        "    # print (h3)\n",
        "    # convert to string\n",
        "    h3text=h3.text\n",
        "    # print (h3text)\n",
        "    # grab digits at the front of the string (rank)\n",
        "    rank=re.search('^\\d*', h3text).group()\n",
        "    # print (\"rank:\", rank )\n",
        "    # grab the $ price - dollar, zero or more digits, decimal, zero or more digits\n",
        "    price=re.search('\\$\\d*.*\\d*', h3text).group().strip('\\$')\n",
        "    # print (\"price:\", price)\n",
        "    # grab colon separated exchange followed by ticker\n",
        "    # exchangeticker=re.sub(' ','', re.search('\\([A-Z]*: [A-Z]*\\)', h3text).group())\n",
        "    exchangeticker=re.sub(' ','', re.search('\\([A-Z]*: [A-Z]*\\-*[A-Z]*\\)', h3text).group())\n",
        "    # print (\"exchange and ticker:\", exchangeticker)\n",
        "    exchange, ticker=re.sub('\\(|\\)','', exchangeticker).split(':')\n",
        "    # print (\"ticker:\", ticker)\n",
        "    # print (\"exchange:\", exchange)\n",
        "    # google finance compatible ticker\n",
        "    gfinanceticker=ticker+\":\"+exchange\n",
        "    # print (\"Google Finance compatible ticker:\", gfinanceticker)\n",
        "    # grab the stock shortname (this is ugly, but regex will probably not work here)\n",
        "    shortname=h3text.split('(')[0].split('.',1)[1].strip()\n",
        "    # print (shortname)\n",
        "    # print (rank, longticker, shortname, price)\n",
        "    return (rank, gfinanceticker, shortname, price)"
      ],
      "id": "precise-appraisal",
      "execution_count": 19,
      "outputs": []
    },
    {
      "cell_type": "code",
      "metadata": {
        "colab": {
          "base_uri": "https://localhost:8080/"
        },
        "id": "mediterranean-adult",
        "outputId": "48e38722-8b0e-4432-b49f-c304aaec5e97"
      },
      "source": [
        "rank, gfinanceticker, shortname, price = parseheader(h3)\n",
        "print (rank, gfinanceticker, shortname, price)"
      ],
      "id": "mediterranean-adult",
      "execution_count": 105,
      "outputs": [
        {
          "output_type": "stream",
          "text": [
            "29 TWLO:NYSE Twilio Inc. 443.49\n"
          ],
          "name": "stdout"
        }
      ]
    },
    {
      "cell_type": "code",
      "metadata": {
        "colab": {
          "base_uri": "https://localhost:8080/"
        },
        "id": "excess-truth",
        "outputId": "19e75046-7453-4368-a74d-83aa96336f28"
      },
      "source": [
        "print (p.contents)"
      ],
      "id": "excess-truth",
      "execution_count": null,
      "outputs": [
        {
          "output_type": "stream",
          "text": [
            "['Number of Hedge Funds: 147 (2020Q4)', '\\nNumber of Hedge Funds: 150 (2020Q3)', '\\nTotal Dollar Amount of Long Hedge Fund Positions: $15.96 billion', '\\nPercent of Hedge Funds with Long Positions: 16.6%', '\\nFirst Quarter Return (through February 18): 24.2%', '\\nPopularity Ranking (2020Q3): 8', '\\nPopularity Ranking (2020Q2): 9', '\\nNoteworthy Hedge Fund Shareholders: ', <a href=\"https://www.insidermonkey.com/hedge-fund/coatue+management/79/\">Philippe Laffont</a>, ',\\xa0', <a href=\"https://www.insidermonkey.com/hedge-fund/scge+management/555/\">Christopher Lyle</a>, ', ', <a href=\"https://www.insidermonkey.com/hedge-fund/fisher+asset+management/11/\">Fisher Asset Management</a>]\n"
          ],
          "name": "stdout"
        }
      ]
    },
    {
      "cell_type": "code",
      "metadata": {
        "colab": {
          "base_uri": "https://localhost:8080/"
        },
        "id": "UyiikUpLZpao",
        "outputId": "6e3a475f-9861-4933-c8bc-08cd948b5e07"
      },
      "source": [
        "print (p.text)"
      ],
      "id": "UyiikUpLZpao",
      "execution_count": null,
      "outputs": [
        {
          "output_type": "stream",
          "text": [
            "Number of Hedge Funds: 147 (2020Q4)\n",
            "Number of Hedge Funds: 150 (2020Q3)\n",
            "Total Dollar Amount of Long Hedge Fund Positions: $15.96 billion\n",
            "Percent of Hedge Funds with Long Positions: 16.6%\n",
            "First Quarter Return (through February 18): 24.2%\n",
            "Popularity Ranking (2020Q3): 8\n",
            "Popularity Ranking (2020Q2): 9\n",
            "Noteworthy Hedge Fund Shareholders: Philippe Laffont, Christopher Lyle, Fisher Asset Management\n"
          ],
          "name": "stdout"
        }
      ]
    },
    {
      "cell_type": "code",
      "metadata": {
        "id": "static-planning"
      },
      "source": [
        "def parseparagraph(p):\n",
        "  # print (p)\n",
        "  # remove <br> tags (bs4 find and find_all remove tags only)\n",
        "  for brtags in p.find_all('br'):\n",
        "    brtags.extract()\n",
        "  # print (p)\n",
        "  # convert to list of strings\n",
        "  pcontents=p.contents\n",
        "  # print (pcontents)\n",
        "  # strip non-breaking spaces and newlines if any, search for digits surrounded by whitespace, strip whitespace(s)\n",
        "  numhedgefunds2020q4 = re.search ('\\s\\d*\\s', pcontents[0].replace(u'\\xa0', '').strip('\\n')).group().strip()\n",
        "  # strip non-breaking spaces and newlines if any, search for digits surrounded by whitespace, strip whitespace(s)\n",
        "  numhedgefunds2020q3 = re.search ('\\s\\d*\\s', pcontents[1].replace(u'\\xa0', '').strip('\\n')).group().strip()\n",
        "  # search $ decimal-digits decimal decimal-digits and strip out the $\n",
        "  totaldollarlongpositions = re.search ('\\$\\d*.\\d*', pcontents[2]).group().strip('$')\n",
        "  # search decimal-digits decimal decimal-digits % at the end of the string, and strip out the %\n",
        "  percentfundslongpositions = re.search ('\\d*.\\d*%$', pcontents[3]).group().strip('%')\n",
        "  # search decimal-digits decimal decimal-digits % at the end of the string, and strip out the %\n",
        "  latestquarterreturn = re.search ('\\d*.\\d*%$', pcontents[4]).group().strip('%').strip()\n",
        "  # search decimal-digits at the end of the string, and strip out whitespace(s)\n",
        "  popranking2020q3 = re.search ('\\d*$', pcontents[5]).group().strip()\n",
        "  # search decimal-digits at the end of the string, and strip out whitespace(s)\n",
        "  popranking2020q2 = re.search (' \\d*$', pcontents[6]).group().strip()\n",
        "  # extract noteworthy hedge funds owning stock\n",
        "  notehedgies=[]\n",
        "  for atags in p.find_all('a', href=True):\n",
        "    # this is how we get to the href link and the text string\n",
        "    # print (atags['href'], atags.text)\n",
        "    notehedgies.append(atags.text)\n",
        "  # print (numhedgefunds2020q4, numhedgefunds2020q3, totaldollarlongpositions, percentfundslongpositions, latestquarterreturn, popranking2020q3, popranking2020q2, notehedgies)\n",
        "  return (numhedgefunds2020q4, numhedgefunds2020q3, totaldollarlongpositions, percentfundslongpositions, latestquarterreturn, popranking2020q3, popranking2020q2, notehedgies)"
      ],
      "id": "static-planning",
      "execution_count": 112,
      "outputs": []
    },
    {
      "cell_type": "code",
      "metadata": {
        "colab": {
          "base_uri": "https://localhost:8080/"
        },
        "id": "ethical-mirror",
        "outputId": "2451d24a-13cd-4a8b-d26d-e5ba00bf5102"
      },
      "source": [
        "numhedgefunds2020q4, numhedgefunds2020q3, totaldollarlongpositions, percentfundslongpositions, latestquarterreturn, popranking2020q3, popranking2020q2, notehedgies=parseparagraph(p)\n",
        "print (numhedgefunds2020q4, numhedgefunds2020q3, totaldollarlongpositions, percentfundslongpositions, latestquarterreturn, popranking2020q3, popranking2020q2, notehedgies)"
      ],
      "id": "ethical-mirror",
      "execution_count": 113,
      "outputs": [
        {
          "output_type": "stream",
          "text": [
            "273 245 51.5 30.8 2.2 1 1 []\n"
          ],
          "name": "stdout"
        }
      ]
    },
    {
      "cell_type": "code",
      "metadata": {
        "id": "iL4SV8mfgF7i",
        "outputId": "69b76be1-03ce-4699-a131-8f721e4ea3d8",
        "colab": {
          "base_uri": "https://localhost:8080/"
        }
      },
      "source": [
        "# testing with a single case\n",
        "stocks={}\n",
        "url=root+str(2) # TWLO:2, BRK-A: 13\n",
        "page=requests.get(url)\n",
        "print (page)\n",
        "\n",
        "if (page.status_code == success):\n",
        "  print('Visited URL: {}'.format(page.url))\n",
        "  html = BeautifulSoup(page.content, 'html.parser')\n",
        "  # extract the <h3> tag\n",
        "  h3=html.body.h3\n",
        "  # extract the <p> tag\n",
        "  # hack for the first page\n",
        "  if i==1:\n",
        "    p=html.select('p')[18]\n",
        "  else: p=html.body.p\n",
        "  rank, gfinanceticker, shortname, price = parseheader(h3)\n",
        "  numhedgefunds2020q4, numhedgefunds2020q3, totaldollarlongpositions, percentfundslongpositions, latestquarterreturn, popranking2020q3, popranking2020q2, notehedgies=parseparagraph(p)\n",
        "\n",
        "  print (rank, gfinanceticker, shortname, price)\n",
        "  print (numhedgefunds2020q4, numhedgefunds2020q3, totaldollarlongpositions, percentfundslongpositions, latestquarterreturn, popranking2020q3, popranking2020q2, notehedgies)\n",
        "  stocks[gfinanceticker]={'rank': rank, 'shortname': shortname, 'price':price, 'numhedgefunds2020q4': numhedgefunds2020q4, 'numhedgefunds2020q3': numhedgefunds2020q3, 'totaldollarlongpositions': totaldollarlongpositions, 'percentfundslongpositions': percentfundslongpositions, 'latestquarterreturn': latestquarterreturn, 'popranking2020q3': popranking2020q3, 'popranking2020q2': popranking2020q2, 'notable hedge funds': notehedgies}\n",
        "else:\n",
        "  print ('Oops, got error: {}', format(page.status_code))\n",
        "print (stocks)"
      ],
      "id": "iL4SV8mfgF7i",
      "execution_count": 114,
      "outputs": [
        {
          "output_type": "stream",
          "text": [
            "<Response [200]>\n",
            "Visited URL: https://www.insidermonkey.com/blog/30-most-popular-stocks-among-hedge-funds-2020-q4-rankings-920904/2/\n",
            "29 TWLO:NYSE Twilio Inc. 443.49\n",
            "94 71 5.0 10.6 31 60 68 ['SCGE Management', 'Alkeon Capital Management']\n",
            "{'TWLO:NYSE': {'rank': '29', 'shortname': 'Twilio Inc.', 'price': '443.49', 'numhedgefunds2020q4': '94', 'numhedgefunds2020q3': '71', 'totaldollarlongpositions': '5.0', 'percentfundslongpositions': '10.6', 'latestquarterreturn': '31', 'popranking2020q3': '60', 'popranking2020q2': '68', 'notable hedge funds': ['SCGE Management', 'Alkeon Capital Management']}}\n"
          ],
          "name": "stdout"
        }
      ]
    },
    {
      "cell_type": "code",
      "metadata": {
        "colab": {
          "base_uri": "https://localhost:8080/"
        },
        "id": "hiOLauCzo8PO",
        "outputId": "b6e18dd0-996d-4bef-c762-6ba792ea0f16"
      },
      "source": [
        "stocks={}\n",
        "# stocks\n",
        "\n",
        "for i in range(1, numstocks+1):\n",
        "  url=root+str(i)\n",
        "  # print (url)\n",
        "  page=requests.get(url)\n",
        "  if (page.status_code == success):\n",
        "    print('Visited URL: {}'.format(page.url))\n",
        "    html = BeautifulSoup(page.content, 'html.parser')\n",
        "    # extract the <h3> tag\n",
        "    h3=html.body.h3\n",
        "    # extract the <p> tag\n",
        "    if i==1: # hack for the first page\n",
        "      p=html.select('p')[18]\n",
        "    else: p=html.body.p\n",
        "    rank, gfinanceticker, shortname, price = parseheader(h3)\n",
        "    numhedgefunds2020q4, numhedgefunds2020q3, totaldollarlongpositions, percentfundslongpositions, latestquarterreturn, popranking2020q3, popranking2020q2, notehedgies=parseparagraph(p)\n",
        "\n",
        "    # print (rank, gfinanceticker, shortname, price)\n",
        "    # print (numhedgefunds2020q4, numhedgefunds2020q3, totaldollarlongpositions, percentfundslongpositions, latestquarterreturn, popranking2020q3, popranking2020q2)\n",
        "    stocks[gfinanceticker]={'rank': rank, 'shortname': shortname, 'price':price, 'numhedgefunds2020q4': numhedgefunds2020q4, 'numhedgefunds2020q3': numhedgefunds2020q3, 'totaldollarlongpositions': totaldollarlongpositions, 'percentfundslongpositions': percentfundslongpositions, 'latestquarterreturn': latestquarterreturn, 'popranking2020q3': popranking2020q3, 'popranking2020q2': popranking2020q2, 'notablehedgefunds': notehedgies}\n",
        "  else:\n",
        "    print ('Oops, got error: {}', format(page.status_code))\n",
        "# convert to dataframe\n",
        "df=pd.DataFrame.from_dict(stocks, orient='index')\n",
        "print (\"Done!\")"
      ],
      "id": "hiOLauCzo8PO",
      "execution_count": 126,
      "outputs": [
        {
          "output_type": "stream",
          "text": [
            "Visited URL: https://www.insidermonkey.com/blog/30-most-popular-stocks-among-hedge-funds-2020-q4-rankings-920904/\n",
            "Visited URL: https://www.insidermonkey.com/blog/30-most-popular-stocks-among-hedge-funds-2020-q4-rankings-920904/2/\n",
            "Visited URL: https://www.insidermonkey.com/blog/30-most-popular-stocks-among-hedge-funds-2020-q4-rankings-920904/3/\n",
            "Visited URL: https://www.insidermonkey.com/blog/30-most-popular-stocks-among-hedge-funds-2020-q4-rankings-920904/4/\n",
            "Visited URL: https://www.insidermonkey.com/blog/30-most-popular-stocks-among-hedge-funds-2020-q4-rankings-920904/5/\n",
            "Visited URL: https://www.insidermonkey.com/blog/30-most-popular-stocks-among-hedge-funds-2020-q4-rankings-920904/6/\n",
            "Visited URL: https://www.insidermonkey.com/blog/30-most-popular-stocks-among-hedge-funds-2020-q4-rankings-920904/7/\n",
            "Visited URL: https://www.insidermonkey.com/blog/30-most-popular-stocks-among-hedge-funds-2020-q4-rankings-920904/8/\n",
            "Visited URL: https://www.insidermonkey.com/blog/30-most-popular-stocks-among-hedge-funds-2020-q4-rankings-920904/9/\n",
            "Visited URL: https://www.insidermonkey.com/blog/30-most-popular-stocks-among-hedge-funds-2020-q4-rankings-920904/10/\n",
            "Visited URL: https://www.insidermonkey.com/blog/30-most-popular-stocks-among-hedge-funds-2020-q4-rankings-920904/11/\n",
            "Visited URL: https://www.insidermonkey.com/blog/30-most-popular-stocks-among-hedge-funds-2020-q4-rankings-920904/12/\n",
            "Visited URL: https://www.insidermonkey.com/blog/30-most-popular-stocks-among-hedge-funds-2020-q4-rankings-920904/13/\n",
            "Visited URL: https://www.insidermonkey.com/blog/30-most-popular-stocks-among-hedge-funds-2020-q4-rankings-920904/14/\n",
            "Visited URL: https://www.insidermonkey.com/blog/30-most-popular-stocks-among-hedge-funds-2020-q4-rankings-920904/15/\n",
            "Visited URL: https://www.insidermonkey.com/blog/30-most-popular-stocks-among-hedge-funds-2020-q4-rankings-920904/16/\n",
            "Visited URL: https://www.insidermonkey.com/blog/30-most-popular-stocks-among-hedge-funds-2020-q4-rankings-920904/17/\n",
            "Visited URL: https://www.insidermonkey.com/blog/30-most-popular-stocks-among-hedge-funds-2020-q4-rankings-920904/18/\n",
            "Visited URL: https://www.insidermonkey.com/blog/30-most-popular-stocks-among-hedge-funds-2020-q4-rankings-920904/19/\n",
            "Visited URL: https://www.insidermonkey.com/blog/30-most-popular-stocks-among-hedge-funds-2020-q4-rankings-920904/20/\n",
            "Visited URL: https://www.insidermonkey.com/blog/30-most-popular-stocks-among-hedge-funds-2020-q4-rankings-920904/21/\n",
            "Visited URL: https://www.insidermonkey.com/blog/30-most-popular-stocks-among-hedge-funds-2020-q4-rankings-920904/22/\n",
            "Visited URL: https://www.insidermonkey.com/blog/30-most-popular-stocks-among-hedge-funds-2020-q4-rankings-920904/23/\n",
            "Visited URL: https://www.insidermonkey.com/blog/30-most-popular-stocks-among-hedge-funds-2020-q4-rankings-920904/24/\n",
            "Visited URL: https://www.insidermonkey.com/blog/30-most-popular-stocks-among-hedge-funds-2020-q4-rankings-920904/25/\n",
            "Visited URL: https://www.insidermonkey.com/blog/30-most-popular-stocks-among-hedge-funds-2020-q4-rankings-920904/26/\n",
            "Visited URL: https://www.insidermonkey.com/blog/30-most-popular-stocks-among-hedge-funds-2020-q4-rankings-920904/27/\n",
            "Visited URL: https://www.insidermonkey.com/blog/30-most-popular-stocks-among-hedge-funds-2020-q4-rankings-920904/28/\n",
            "Visited URL: https://www.insidermonkey.com/blog/30-most-popular-stocks-among-hedge-funds-2020-q4-rankings-920904/29/\n",
            "Visited URL: https://www.insidermonkey.com/blog/30-most-popular-stocks-among-hedge-funds-2020-q4-rankings-920904/30/\n",
            "Done!\n"
          ],
          "name": "stdout"
        }
      ]
    },
    {
      "cell_type": "code",
      "metadata": {
        "id": "5ohEsJXt6AlR",
        "colab": {
          "base_uri": "https://localhost:8080/"
        },
        "outputId": "e34b3691-dd0b-4e56-e36a-71d94b3677c7"
      },
      "source": [
        "print (len(stocks))"
      ],
      "id": "5ohEsJXt6AlR",
      "execution_count": 127,
      "outputs": [
        {
          "output_type": "stream",
          "text": [
            "30\n"
          ],
          "name": "stdout"
        }
      ]
    },
    {
      "cell_type": "code",
      "metadata": {
        "id": "4iKmk-hp2hfa",
        "colab": {
          "base_uri": "https://localhost:8080/",
          "height": 1000
        },
        "outputId": "6bc295b6-0cb9-447d-ae09-93ad361d91c2"
      },
      "source": [
        "df"
      ],
      "id": "4iKmk-hp2hfa",
      "execution_count": 128,
      "outputs": [
        {
          "output_type": "execute_result",
          "data": {
            "text/html": [
              "<div>\n",
              "<style scoped>\n",
              "    .dataframe tbody tr th:only-of-type {\n",
              "        vertical-align: middle;\n",
              "    }\n",
              "\n",
              "    .dataframe tbody tr th {\n",
              "        vertical-align: top;\n",
              "    }\n",
              "\n",
              "    .dataframe thead th {\n",
              "        text-align: right;\n",
              "    }\n",
              "</style>\n",
              "<table border=\"1\" class=\"dataframe\">\n",
              "  <thead>\n",
              "    <tr style=\"text-align: right;\">\n",
              "      <th></th>\n",
              "      <th>rank</th>\n",
              "      <th>shortname</th>\n",
              "      <th>price</th>\n",
              "      <th>numhedgefunds2020q4</th>\n",
              "      <th>numhedgefunds2020q3</th>\n",
              "      <th>totaldollarlongpositions</th>\n",
              "      <th>percentfundslongpositions</th>\n",
              "      <th>latestquarterreturn</th>\n",
              "      <th>popranking2020q3</th>\n",
              "      <th>popranking2020q2</th>\n",
              "      <th>notablehedgefunds</th>\n",
              "    </tr>\n",
              "  </thead>\n",
              "  <tbody>\n",
              "    <tr>\n",
              "      <th>CRWD:NASDAQ</th>\n",
              "      <td>30</td>\n",
              "      <td>CrowdStrike Holdings, Inc.</td>\n",
              "      <td>239.25</td>\n",
              "      <td>92</td>\n",
              "      <td>71</td>\n",
              "      <td>7.2</td>\n",
              "      <td>10.4</td>\n",
              "      <td>12.9</td>\n",
              "      <td>59</td>\n",
              "      <td>41</td>\n",
              "      <td>[Tiger Global Management LLC, Coatue Management]</td>\n",
              "    </tr>\n",
              "    <tr>\n",
              "      <th>TWLO:NYSE</th>\n",
              "      <td>29</td>\n",
              "      <td>Twilio Inc.</td>\n",
              "      <td>443.49</td>\n",
              "      <td>94</td>\n",
              "      <td>71</td>\n",
              "      <td>5.0</td>\n",
              "      <td>10.6</td>\n",
              "      <td>31</td>\n",
              "      <td>60</td>\n",
              "      <td>68</td>\n",
              "      <td>[SCGE Management, Alkeon Capital Management]</td>\n",
              "    </tr>\n",
              "    <tr>\n",
              "      <th>FISV:NASDAQ</th>\n",
              "      <td>28</td>\n",
              "      <td>Fiserv Inc.</td>\n",
              "      <td>113.05</td>\n",
              "      <td>94</td>\n",
              "      <td>90</td>\n",
              "      <td>5.2</td>\n",
              "      <td>10.6</td>\n",
              "      <td>0.71</td>\n",
              "      <td>25</td>\n",
              "      <td>35</td>\n",
              "      <td>[Gabriel Plotkin’s Melvin Capital Management, ...</td>\n",
              "    </tr>\n",
              "    <tr>\n",
              "      <th>PINS:NYSE</th>\n",
              "      <td>27</td>\n",
              "      <td>Pinterest, Inc.</td>\n",
              "      <td>85.99</td>\n",
              "      <td>95</td>\n",
              "      <td>80</td>\n",
              "      <td>5.84</td>\n",
              "      <td>10.7</td>\n",
              "      <td>30.5</td>\n",
              "      <td>43</td>\n",
              "      <td>158</td>\n",
              "      <td>[Select Equity Group,, Aubrey Capital Management]</td>\n",
              "    </tr>\n",
              "    <tr>\n",
              "      <th>C:NYSE</th>\n",
              "      <td>26</td>\n",
              "      <td>Citigroup Inc.</td>\n",
              "      <td>63.48</td>\n",
              "      <td>95</td>\n",
              "      <td>91</td>\n",
              "      <td>7.12</td>\n",
              "      <td>10.7</td>\n",
              "      <td>3.8</td>\n",
              "      <td>23</td>\n",
              "      <td>23</td>\n",
              "      <td>[Kahn Brothers]</td>\n",
              "    </tr>\n",
              "    <tr>\n",
              "      <th>NOW:NYSE</th>\n",
              "      <td>25</td>\n",
              "      <td>ServiceNow, Inc.</td>\n",
              "      <td>575.8</td>\n",
              "      <td>96</td>\n",
              "      <td>82</td>\n",
              "      <td>6.85</td>\n",
              "      <td>10.8</td>\n",
              "      <td>4.6</td>\n",
              "      <td>36</td>\n",
              "      <td>34</td>\n",
              "      <td>[Tiger Global Management LLC, GQG Partners]</td>\n",
              "    </tr>\n",
              "    <tr>\n",
              "      <th>CRM:NYSE</th>\n",
              "      <td>24</td>\n",
              "      <td>Salesforce.com, inc.</td>\n",
              "      <td>247.01</td>\n",
              "      <td>97</td>\n",
              "      <td>106</td>\n",
              "      <td>10.6</td>\n",
              "      <td>10.9</td>\n",
              "      <td>11</td>\n",
              "      <td>16</td>\n",
              "      <td>17</td>\n",
              "      <td>[Fisher Asset Management, Altimeter Capital Ma...</td>\n",
              "    </tr>\n",
              "    <tr>\n",
              "      <th>WFC:NYSE</th>\n",
              "      <td>23</td>\n",
              "      <td>Wells Fargo &amp; Company</td>\n",
              "      <td>36.96</td>\n",
              "      <td>99</td>\n",
              "      <td>90</td>\n",
              "      <td>8.75</td>\n",
              "      <td>11.2</td>\n",
              "      <td>22.9</td>\n",
              "      <td>24</td>\n",
              "      <td>33</td>\n",
              "      <td>[Berkshire Hathaway]</td>\n",
              "    </tr>\n",
              "    <tr>\n",
              "      <th>BAC:NYSE</th>\n",
              "      <td>22</td>\n",
              "      <td>Bank of America Corporation</td>\n",
              "      <td>34.19</td>\n",
              "      <td>99</td>\n",
              "      <td>88</td>\n",
              "      <td>35.3</td>\n",
              "      <td>11.2</td>\n",
              "      <td>12.8</td>\n",
              "      <td>27</td>\n",
              "      <td>29</td>\n",
              "      <td>[Berkshire Hathaway, Harris Associates]</td>\n",
              "    </tr>\n",
              "    <tr>\n",
              "      <th>MU:NASDAQ</th>\n",
              "      <td>21</td>\n",
              "      <td>Micron Technology, Inc.</td>\n",
              "      <td>88.54</td>\n",
              "      <td>100</td>\n",
              "      <td>79</td>\n",
              "      <td>8.14</td>\n",
              "      <td>11.3</td>\n",
              "      <td>17.8</td>\n",
              "      <td>44</td>\n",
              "      <td>37</td>\n",
              "      <td>[Arrowstreet Capital, Appaloosa Management LP]</td>\n",
              "    </tr>\n",
              "    <tr>\n",
              "      <th>TMUS:NASDAQ</th>\n",
              "      <td>20</td>\n",
              "      <td>T-Mobile US, Inc.</td>\n",
              "      <td>123.04</td>\n",
              "      <td>103</td>\n",
              "      <td>94</td>\n",
              "      <td>9.1</td>\n",
              "      <td>11.6</td>\n",
              "      <td>8.8</td>\n",
              "      <td>21</td>\n",
              "      <td>14</td>\n",
              "      <td>[Viking Global]</td>\n",
              "    </tr>\n",
              "    <tr>\n",
              "      <th>BKNG:NASDAQ</th>\n",
              "      <td>19</td>\n",
              "      <td>Booking Holdings Inc.</td>\n",
              "      <td>2,259.79</td>\n",
              "      <td>108</td>\n",
              "      <td>113</td>\n",
              "      <td>8.25</td>\n",
              "      <td>12.2</td>\n",
              "      <td>1.5</td>\n",
              "      <td>13</td>\n",
              "      <td>24</td>\n",
              "      <td>[Melvin Capital Management]</td>\n",
              "    </tr>\n",
              "    <tr>\n",
              "      <th>BRK-A:NYSE</th>\n",
              "      <td>18</td>\n",
              "      <td>Berkshire Hathaway Inc.</td>\n",
              "      <td>367,400</td>\n",
              "      <td>110</td>\n",
              "      <td>109</td>\n",
              "      <td>20.8</td>\n",
              "      <td>12.4</td>\n",
              "      <td>1.5</td>\n",
              "      <td>15</td>\n",
              "      <td>16</td>\n",
              "      <td>[Bill &amp; Melinda Gates Foundation Trust]</td>\n",
              "    </tr>\n",
              "    <tr>\n",
              "      <th>JPM:NYSE</th>\n",
              "      <td>17</td>\n",
              "      <td>JPMorgan Chase &amp; Co.</td>\n",
              "      <td>145.59</td>\n",
              "      <td>112</td>\n",
              "      <td>118</td>\n",
              "      <td>6.97</td>\n",
              "      <td>12.6</td>\n",
              "      <td>15.4</td>\n",
              "      <td>12</td>\n",
              "      <td>12</td>\n",
              "      <td>[Viking Global, D1 Capital Partners]</td>\n",
              "    </tr>\n",
              "    <tr>\n",
              "      <th>ADBE:NASDAQ</th>\n",
              "      <td>16</td>\n",
              "      <td>Adobe Inc.</td>\n",
              "      <td>488.37</td>\n",
              "      <td>114</td>\n",
              "      <td>106</td>\n",
              "      <td>11.9</td>\n",
              "      <td>12.9</td>\n",
              "      <td>2.3</td>\n",
              "      <td>17</td>\n",
              "      <td>19</td>\n",
              "      <td>[Aubrey Capital Management, Fisher Asset Manag...</td>\n",
              "    </tr>\n",
              "    <tr>\n",
              "      <th>SE:NYSE</th>\n",
              "      <td>15</td>\n",
              "      <td>Sea Limited</td>\n",
              "      <td>267.50</td>\n",
              "      <td>115</td>\n",
              "      <td>95</td>\n",
              "      <td>10.9</td>\n",
              "      <td>13</td>\n",
              "      <td>34.4</td>\n",
              "      <td>20</td>\n",
              "      <td>38</td>\n",
              "      <td>[Tiger Global Management LLC]</td>\n",
              "    </tr>\n",
              "    <tr>\n",
              "      <th>NFLX:NASDAQ</th>\n",
              "      <td>14</td>\n",
              "      <td>Netflix, Inc.</td>\n",
              "      <td>548.22</td>\n",
              "      <td>116</td>\n",
              "      <td>104</td>\n",
              "      <td>15.6</td>\n",
              "      <td>13.1</td>\n",
              "      <td>1.4</td>\n",
              "      <td>18</td>\n",
              "      <td>13</td>\n",
              "      <td>[Fisher Asset Management, Lone Pine Capital]</td>\n",
              "    </tr>\n",
              "    <tr>\n",
              "      <th>BMY:NYSE</th>\n",
              "      <td>13</td>\n",
              "      <td>Bristol-Myers Squibb Company</td>\n",
              "      <td>61.02</td>\n",
              "      <td>131</td>\n",
              "      <td>124</td>\n",
              "      <td>6.1</td>\n",
              "      <td>14.8</td>\n",
              "      <td>1.6</td>\n",
              "      <td>11</td>\n",
              "      <td>10</td>\n",
              "      <td>[Jim Simons]</td>\n",
              "    </tr>\n",
              "    <tr>\n",
              "      <th>UBER:NYSE</th>\n",
              "      <td>12</td>\n",
              "      <td>Uber Technologies, Inc.</td>\n",
              "      <td>59</td>\n",
              "      <td>135</td>\n",
              "      <td>100</td>\n",
              "      <td>10.1</td>\n",
              "      <td>15.2</td>\n",
              "      <td>15.7</td>\n",
              "      <td>19</td>\n",
              "      <td>25</td>\n",
              "      <td>[Altimeter Capital Management, Tiger Global Ma...</td>\n",
              "    </tr>\n",
              "    <tr>\n",
              "      <th>DIS:NYSE</th>\n",
              "      <td>11</td>\n",
              "      <td>The Walt Disney Company</td>\n",
              "      <td>183</td>\n",
              "      <td>144</td>\n",
              "      <td>112</td>\n",
              "      <td>16.42</td>\n",
              "      <td>16.2</td>\n",
              "      <td>1.0</td>\n",
              "      <td>14</td>\n",
              "      <td>18</td>\n",
              "      <td>[Philippe Laffont’s Coatue Management, Ken Fis...</td>\n",
              "    </tr>\n",
              "    <tr>\n",
              "      <th>AAPL:NASDAQ</th>\n",
              "      <td>10</td>\n",
              "      <td>Apple Inc.</td>\n",
              "      <td>129.71</td>\n",
              "      <td>146</td>\n",
              "      <td>134</td>\n",
              "      <td>141.8</td>\n",
              "      <td>16.5</td>\n",
              "      <td>2.1</td>\n",
              "      <td>9</td>\n",
              "      <td>11</td>\n",
              "      <td>[Berkshire Hathaway]</td>\n",
              "    </tr>\n",
              "    <tr>\n",
              "      <th>PYPL:NASDAQ</th>\n",
              "      <td>9</td>\n",
              "      <td>PayPal Holdings, Inc.</td>\n",
              "      <td>290.81</td>\n",
              "      <td>147</td>\n",
              "      <td>150</td>\n",
              "      <td>15.96</td>\n",
              "      <td>16.6</td>\n",
              "      <td>24.2</td>\n",
              "      <td>8</td>\n",
              "      <td>9</td>\n",
              "      <td>[Philippe Laffont, Christopher Lyle, Fisher As...</td>\n",
              "    </tr>\n",
              "    <tr>\n",
              "      <th>MA:NYSE</th>\n",
              "      <td>8</td>\n",
              "      <td>Mastercard Incorporated</td>\n",
              "      <td>338.46</td>\n",
              "      <td>154</td>\n",
              "      <td>133</td>\n",
              "      <td>18</td>\n",
              "      <td>17.4</td>\n",
              "      <td>5.1</td>\n",
              "      <td>10</td>\n",
              "      <td>7</td>\n",
              "      <td>[Akre Capital Management, Berkshire Hathaway]</td>\n",
              "    </tr>\n",
              "    <tr>\n",
              "      <th>BABA:NYSE</th>\n",
              "      <td>7</td>\n",
              "      <td>Alibaba Group Holding Limited</td>\n",
              "      <td>264.51</td>\n",
              "      <td>156</td>\n",
              "      <td>166</td>\n",
              "      <td>17.9</td>\n",
              "      <td>17.6</td>\n",
              "      <td>13.7</td>\n",
              "      <td>4</td>\n",
              "      <td>5</td>\n",
              "      <td>[]</td>\n",
              "    </tr>\n",
              "    <tr>\n",
              "      <th>GOOG:NASDAQ</th>\n",
              "      <td>6</td>\n",
              "      <td>Alphabet Inc. Class C</td>\n",
              "      <td>2,117.20</td>\n",
              "      <td>157</td>\n",
              "      <td>150</td>\n",
              "      <td>20.6</td>\n",
              "      <td>17.7</td>\n",
              "      <td>20.9</td>\n",
              "      <td>7</td>\n",
              "      <td>8</td>\n",
              "      <td>[]</td>\n",
              "    </tr>\n",
              "    <tr>\n",
              "      <th>V:NYSE</th>\n",
              "      <td>5</td>\n",
              "      <td>Visa Inc.</td>\n",
              "      <td>209.35</td>\n",
              "      <td>166</td>\n",
              "      <td>160</td>\n",
              "      <td>23.6</td>\n",
              "      <td>18.7</td>\n",
              "      <td>4.1</td>\n",
              "      <td>6</td>\n",
              "      <td>6</td>\n",
              "      <td>[Ken Fisher]</td>\n",
              "    </tr>\n",
              "    <tr>\n",
              "      <th>GOOGL:NASDAQ</th>\n",
              "      <td>4</td>\n",
              "      <td>Alphabet Inc. Class A</td>\n",
              "      <td>2,105.81</td>\n",
              "      <td>179</td>\n",
              "      <td>162</td>\n",
              "      <td>21.9</td>\n",
              "      <td>20.2</td>\n",
              "      <td>20.2</td>\n",
              "      <td>5</td>\n",
              "      <td>4</td>\n",
              "      <td>[]</td>\n",
              "    </tr>\n",
              "    <tr>\n",
              "      <th>FB:NASDAQ</th>\n",
              "      <td>3</td>\n",
              "      <td>Facebook, Inc.</td>\n",
              "      <td>269.39</td>\n",
              "      <td>242</td>\n",
              "      <td>230</td>\n",
              "      <td>38.23</td>\n",
              "      <td>27.3</td>\n",
              "      <td>1.4</td>\n",
              "      <td>3</td>\n",
              "      <td>3</td>\n",
              "      <td>[Tiger Global Management LLC]</td>\n",
              "    </tr>\n",
              "    <tr>\n",
              "      <th>MSFT:NASDAQ</th>\n",
              "      <td>2</td>\n",
              "      <td>Microsoft Corporation</td>\n",
              "      <td>243.79</td>\n",
              "      <td>258</td>\n",
              "      <td>234</td>\n",
              "      <td>52.9</td>\n",
              "      <td>29.1</td>\n",
              "      <td>9.9</td>\n",
              "      <td>2</td>\n",
              "      <td>2</td>\n",
              "      <td>[]</td>\n",
              "    </tr>\n",
              "    <tr>\n",
              "      <th>AMZN:NASDAQ</th>\n",
              "      <td>1</td>\n",
              "      <td>Amazon.com, Inc.</td>\n",
              "      <td>3,328.23</td>\n",
              "      <td>273</td>\n",
              "      <td>245</td>\n",
              "      <td>51.5</td>\n",
              "      <td>30.8</td>\n",
              "      <td>2.2</td>\n",
              "      <td>1</td>\n",
              "      <td>1</td>\n",
              "      <td>[]</td>\n",
              "    </tr>\n",
              "  </tbody>\n",
              "</table>\n",
              "</div>"
            ],
            "text/plain": [
              "             rank  ...                                  notablehedgefunds\n",
              "CRWD:NASDAQ    30  ...   [Tiger Global Management LLC, Coatue Management]\n",
              "TWLO:NYSE      29  ...       [SCGE Management, Alkeon Capital Management]\n",
              "FISV:NASDAQ    28  ...  [Gabriel Plotkin’s Melvin Capital Management, ...\n",
              "PINS:NYSE      27  ...  [Select Equity Group,, Aubrey Capital Management]\n",
              "C:NYSE         26  ...                                    [Kahn Brothers]\n",
              "NOW:NYSE       25  ...        [Tiger Global Management LLC, GQG Partners]\n",
              "CRM:NYSE       24  ...  [Fisher Asset Management, Altimeter Capital Ma...\n",
              "WFC:NYSE       23  ...                               [Berkshire Hathaway]\n",
              "BAC:NYSE       22  ...            [Berkshire Hathaway, Harris Associates]\n",
              "MU:NASDAQ      21  ...     [Arrowstreet Capital, Appaloosa Management LP]\n",
              "TMUS:NASDAQ    20  ...                                    [Viking Global]\n",
              "BKNG:NASDAQ    19  ...                        [Melvin Capital Management]\n",
              "BRK-A:NYSE     18  ...            [Bill & Melinda Gates Foundation Trust]\n",
              "JPM:NYSE       17  ...               [Viking Global, D1 Capital Partners]\n",
              "ADBE:NASDAQ    16  ...  [Aubrey Capital Management, Fisher Asset Manag...\n",
              "SE:NYSE        15  ...                      [Tiger Global Management LLC]\n",
              "NFLX:NASDAQ    14  ...       [Fisher Asset Management, Lone Pine Capital]\n",
              "BMY:NYSE       13  ...                                       [Jim Simons]\n",
              "UBER:NYSE      12  ...  [Altimeter Capital Management, Tiger Global Ma...\n",
              "DIS:NYSE       11  ...  [Philippe Laffont’s Coatue Management, Ken Fis...\n",
              "AAPL:NASDAQ    10  ...                               [Berkshire Hathaway]\n",
              "PYPL:NASDAQ     9  ...  [Philippe Laffont, Christopher Lyle, Fisher As...\n",
              "MA:NYSE         8  ...      [Akre Capital Management, Berkshire Hathaway]\n",
              "BABA:NYSE       7  ...                                                 []\n",
              "GOOG:NASDAQ     6  ...                                                 []\n",
              "V:NYSE          5  ...                                       [Ken Fisher]\n",
              "GOOGL:NASDAQ    4  ...                                                 []\n",
              "FB:NASDAQ       3  ...                      [Tiger Global Management LLC]\n",
              "MSFT:NASDAQ     2  ...                                                 []\n",
              "AMZN:NASDAQ     1  ...                                                 []\n",
              "\n",
              "[30 rows x 11 columns]"
            ]
          },
          "metadata": {
            "tags": []
          },
          "execution_count": 128
        }
      ]
    },
    {
      "cell_type": "code",
      "metadata": {
        "id": "BFj2E9BJ03oN",
        "colab": {
          "base_uri": "https://localhost:8080/"
        },
        "outputId": "8d6fc7e2-a237-4fcc-9950-beca1e2291c1"
      },
      "source": [
        "df.info()"
      ],
      "id": "BFj2E9BJ03oN",
      "execution_count": 129,
      "outputs": [
        {
          "output_type": "stream",
          "text": [
            "<class 'pandas.core.frame.DataFrame'>\n",
            "Index: 30 entries, CRWD:NASDAQ to AMZN:NASDAQ\n",
            "Data columns (total 11 columns):\n",
            " #   Column                     Non-Null Count  Dtype \n",
            "---  ------                     --------------  ----- \n",
            " 0   rank                       30 non-null     object\n",
            " 1   shortname                  30 non-null     object\n",
            " 2   price                      30 non-null     object\n",
            " 3   numhedgefunds2020q4        30 non-null     object\n",
            " 4   numhedgefunds2020q3        30 non-null     object\n",
            " 5   totaldollarlongpositions   30 non-null     object\n",
            " 6   percentfundslongpositions  30 non-null     object\n",
            " 7   latestquarterreturn        30 non-null     object\n",
            " 8   popranking2020q3           30 non-null     object\n",
            " 9   popranking2020q2           30 non-null     object\n",
            " 10  notablehedgefunds          30 non-null     object\n",
            "dtypes: object(11)\n",
            "memory usage: 2.8+ KB\n"
          ],
          "name": "stdout"
        }
      ]
    },
    {
      "cell_type": "code",
      "metadata": {
        "id": "apqgd6gx7AJM"
      },
      "source": [
        "df.to_csv('insidermonkeytop30.csv', index=True)"
      ],
      "id": "apqgd6gx7AJM",
      "execution_count": 130,
      "outputs": []
    },
    {
      "cell_type": "code",
      "metadata": {
        "id": "jQhmIyQM7QEs",
        "colab": {
          "base_uri": "https://localhost:8080/"
        },
        "outputId": "13d20b14-8fbb-41fc-f2e5-1a5018198b05"
      },
      "source": [
        "!cat insidermonkeytop30.csv"
      ],
      "id": "jQhmIyQM7QEs",
      "execution_count": 131,
      "outputs": [
        {
          "output_type": "stream",
          "text": [
            ",rank,shortname,price,numhedgefunds2020q4,numhedgefunds2020q3,totaldollarlongpositions,percentfundslongpositions,latestquarterreturn,popranking2020q3,popranking2020q2,notablehedgefunds\n",
            "CRWD:NASDAQ,30,\"CrowdStrike Holdings, Inc.\",239.25,92,71,7.2,10.4,12.9,59,41,\"['Tiger Global Management LLC', 'Coatue Management']\"\n",
            "TWLO:NYSE,29,Twilio Inc.,443.49,94,71,5.0,10.6,31,60,68,\"['SCGE Management', 'Alkeon Capital Management']\"\n",
            "FISV:NASDAQ,28,Fiserv Inc.,113.05,94,90,5.2,10.6,0.71,25,35,\"['Gabriel Plotkin’s Melvin Capital Management', 'BlueSpruce Investments']\"\n",
            "PINS:NYSE,27,\"Pinterest, Inc.\",85.99,95,80,5.84,10.7,30.5,43,158,\"['Select Equity Group,', 'Aubrey Capital Management']\"\n",
            "C:NYSE,26,Citigroup Inc.,63.48,95,91,7.12,10.7,3.8,23,23,['Kahn Brothers']\n",
            "NOW:NYSE,25,\"ServiceNow, Inc.\",575.8,96,82,6.85,10.8,4.6,36,34,\"['Tiger Global Management LLC', 'GQG Partners']\"\n",
            "CRM:NYSE,24,\"Salesforce.com, inc.\",247.01,97,106,10.6,10.9,11,16,17,\"['Fisher Asset Management', 'Altimeter Capital Management']\"\n",
            "WFC:NYSE,23,Wells Fargo & Company,36.96,99,90,8.75,11.2,22.9,24,33,['Berkshire Hathaway']\n",
            "BAC:NYSE,22,Bank of America Corporation,34.19,99,88,35.3,11.2,12.8,27,29,\"['Berkshire Hathaway', 'Harris Associates']\"\n",
            "MU:NASDAQ,21,\"Micron Technology, Inc.\",88.54,100,79,8.14,11.3,17.8,44,37,\"['Arrowstreet Capital', 'Appaloosa Management LP']\"\n",
            "TMUS:NASDAQ,20,\"T-Mobile US, Inc.\",123.04,103,94,9.1,11.6,8.8,21,14,['Viking Global']\n",
            "BKNG:NASDAQ,19,Booking Holdings Inc.,\"2,259.79\",108,113,8.25,12.2,1.5,13,24,['Melvin Capital Management']\n",
            "BRK-A:NYSE,18,Berkshire Hathaway Inc.,\"367,400\",110,109,20.8,12.4,1.5,15,16,['Bill & Melinda Gates Foundation Trust']\n",
            "JPM:NYSE,17,JPMorgan Chase & Co.,145.59,112,118,6.97,12.6,15.4,12,12,\"['Viking Global', 'D1 Capital Partners']\"\n",
            "ADBE:NASDAQ,16,Adobe Inc.,488.37,114,106,11.9,12.9,2.3,17,19,\"['Aubrey Capital Management', 'Fisher Asset Management']\"\n",
            "SE:NYSE,15,Sea Limited,267.50,115,95,10.9, 13,34.4,20,38,['Tiger Global Management LLC']\n",
            "NFLX:NASDAQ,14,\"Netflix, Inc.\",548.22,116,104,15.6,13.1,1.4,18,13,\"['Fisher Asset Management', 'Lone Pine Capital']\"\n",
            "BMY:NYSE,13,Bristol-Myers Squibb Company,61.02,131,124,6.1,14.8,1.6,11,10,['Jim Simons']\n",
            "UBER:NYSE,12,\"Uber Technologies, Inc.\",59,135,100,10.1,15.2,15.7,19,25,\"['Altimeter Capital Management', 'Tiger Global Management LLC']\"\n",
            "DIS:NYSE,11,The Walt Disney Company,183,144,112,16.42,16.2,1.0,14,18,\"['Philippe Laffont’s Coatue Management', 'Ken Fisher’s Fisher Asset Management']\"\n",
            "AAPL:NASDAQ,10,Apple Inc.,129.71,146,134,141.8,16.5,2.1,9,11,['Berkshire Hathaway']\n",
            "PYPL:NASDAQ,9,\"PayPal Holdings, Inc.\",290.81,147,150,15.96,16.6,24.2,8,9,\"['Philippe Laffont', 'Christopher Lyle', 'Fisher Asset Management']\"\n",
            "MA:NYSE,8,Mastercard Incorporated,338.46,154,133,18 ,17.4,5.1,10,7,\"['Akre Capital Management', 'Berkshire Hathaway']\"\n",
            "BABA:NYSE,7,Alibaba Group Holding Limited,264.51,156,166,17.9,17.6,13.7,4,5,[]\n",
            "GOOG:NASDAQ,6,Alphabet Inc. Class C,\"2,117.20\",157,150,20.6,17.7,20.9,7,8,[]\n",
            "V:NYSE,5,Visa Inc.,209.35,166,160,23.6,18.7,4.1,6,6,['Ken Fisher']\n",
            "GOOGL:NASDAQ,4,Alphabet Inc. Class A,\"2,105.81\",179,162,21.9,20.2,20.2,5,4,[]\n",
            "FB:NASDAQ,3,\"Facebook, Inc.\",269.39,242,230,38.23,27.3,1.4,3,3,['Tiger Global Management LLC']\n",
            "MSFT:NASDAQ,2,Microsoft Corporation,243.79,258,234,52.9,29.1,9.9,2,2,[]\n",
            "AMZN:NASDAQ,1,\"Amazon.com, Inc.\",\"3,328.23\",273,245,51.5,30.8,2.2,1,1,[]\n"
          ],
          "name": "stdout"
        }
      ]
    }
  ]
}