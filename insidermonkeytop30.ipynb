{
  "nbformat": 4,
  "nbformat_minor": 5,
  "metadata": {
    "kernelspec": {
      "display_name": "Python 3",
      "language": "python",
      "name": "python3"
    },
    "language_info": {
      "codemirror_mode": {
        "name": "ipython",
        "version": 3
      },
      "file_extension": ".py",
      "mimetype": "text/x-python",
      "name": "python",
      "nbconvert_exporter": "python",
      "pygments_lexer": "ipython3",
      "version": "3.6.13"
    },
    "colab": {
      "name": "insidermonkeytop30.ipynb",
      "provenance": []
    }
  },
  "cells": [
    {
      "cell_type": "code",
      "metadata": {
        "id": "leading-lotus"
      },
      "source": [
        "# fetching web pages\n",
        "import requests\n",
        "# getting/processing html from web pages\n",
        "from bs4 import BeautifulSoup\n",
        "# processing text with regular expressions\n",
        "import re\n",
        "# dataframes and writing to csv\n",
        "import pandas as pd"
      ],
      "id": "leading-lotus",
      "execution_count": 294,
      "outputs": []
    },
    {
      "cell_type": "code",
      "metadata": {
        "id": "southeast-bench"
      },
      "source": [
        "# setup variables\n",
        "# base url\n",
        "root='https://www.insidermonkey.com/blog/30-most-popular-stocks-among-hedge-funds-2020-q4-rankings-920904/'\n",
        "# how many stocks are there\n",
        "numstocks=30\n",
        "# target tags\n",
        "targettags=['h3', 'p']\n",
        "# success code\n",
        "success=200"
      ],
      "id": "southeast-bench",
      "execution_count": 286,
      "outputs": []
    },
    {
      "cell_type": "code",
      "metadata": {
        "colab": {
          "base_uri": "https://localhost:8080/"
        },
        "id": "distinguished-spotlight",
        "outputId": "373567b2-737b-4ee8-a8a4-bbd7c6f43264"
      },
      "source": [
        "# check\n",
        "for i in range(1, numstocks+1):\n",
        "    url=root+str(i)\n",
        "    print (url)"
      ],
      "id": "distinguished-spotlight",
      "execution_count": 3,
      "outputs": [
        {
          "output_type": "stream",
          "text": [
            "https://www.insidermonkey.com/blog/30-most-popular-stocks-among-hedge-funds-2020-q4-rankings-920904/1\n",
            "https://www.insidermonkey.com/blog/30-most-popular-stocks-among-hedge-funds-2020-q4-rankings-920904/2\n",
            "https://www.insidermonkey.com/blog/30-most-popular-stocks-among-hedge-funds-2020-q4-rankings-920904/3\n",
            "https://www.insidermonkey.com/blog/30-most-popular-stocks-among-hedge-funds-2020-q4-rankings-920904/4\n",
            "https://www.insidermonkey.com/blog/30-most-popular-stocks-among-hedge-funds-2020-q4-rankings-920904/5\n",
            "https://www.insidermonkey.com/blog/30-most-popular-stocks-among-hedge-funds-2020-q4-rankings-920904/6\n",
            "https://www.insidermonkey.com/blog/30-most-popular-stocks-among-hedge-funds-2020-q4-rankings-920904/7\n",
            "https://www.insidermonkey.com/blog/30-most-popular-stocks-among-hedge-funds-2020-q4-rankings-920904/8\n",
            "https://www.insidermonkey.com/blog/30-most-popular-stocks-among-hedge-funds-2020-q4-rankings-920904/9\n",
            "https://www.insidermonkey.com/blog/30-most-popular-stocks-among-hedge-funds-2020-q4-rankings-920904/10\n",
            "https://www.insidermonkey.com/blog/30-most-popular-stocks-among-hedge-funds-2020-q4-rankings-920904/11\n",
            "https://www.insidermonkey.com/blog/30-most-popular-stocks-among-hedge-funds-2020-q4-rankings-920904/12\n",
            "https://www.insidermonkey.com/blog/30-most-popular-stocks-among-hedge-funds-2020-q4-rankings-920904/13\n",
            "https://www.insidermonkey.com/blog/30-most-popular-stocks-among-hedge-funds-2020-q4-rankings-920904/14\n",
            "https://www.insidermonkey.com/blog/30-most-popular-stocks-among-hedge-funds-2020-q4-rankings-920904/15\n",
            "https://www.insidermonkey.com/blog/30-most-popular-stocks-among-hedge-funds-2020-q4-rankings-920904/16\n",
            "https://www.insidermonkey.com/blog/30-most-popular-stocks-among-hedge-funds-2020-q4-rankings-920904/17\n",
            "https://www.insidermonkey.com/blog/30-most-popular-stocks-among-hedge-funds-2020-q4-rankings-920904/18\n",
            "https://www.insidermonkey.com/blog/30-most-popular-stocks-among-hedge-funds-2020-q4-rankings-920904/19\n",
            "https://www.insidermonkey.com/blog/30-most-popular-stocks-among-hedge-funds-2020-q4-rankings-920904/20\n",
            "https://www.insidermonkey.com/blog/30-most-popular-stocks-among-hedge-funds-2020-q4-rankings-920904/21\n",
            "https://www.insidermonkey.com/blog/30-most-popular-stocks-among-hedge-funds-2020-q4-rankings-920904/22\n",
            "https://www.insidermonkey.com/blog/30-most-popular-stocks-among-hedge-funds-2020-q4-rankings-920904/23\n",
            "https://www.insidermonkey.com/blog/30-most-popular-stocks-among-hedge-funds-2020-q4-rankings-920904/24\n",
            "https://www.insidermonkey.com/blog/30-most-popular-stocks-among-hedge-funds-2020-q4-rankings-920904/25\n",
            "https://www.insidermonkey.com/blog/30-most-popular-stocks-among-hedge-funds-2020-q4-rankings-920904/26\n",
            "https://www.insidermonkey.com/blog/30-most-popular-stocks-among-hedge-funds-2020-q4-rankings-920904/27\n",
            "https://www.insidermonkey.com/blog/30-most-popular-stocks-among-hedge-funds-2020-q4-rankings-920904/28\n",
            "https://www.insidermonkey.com/blog/30-most-popular-stocks-among-hedge-funds-2020-q4-rankings-920904/29\n",
            "https://www.insidermonkey.com/blog/30-most-popular-stocks-among-hedge-funds-2020-q4-rankings-920904/30\n"
          ],
          "name": "stdout"
        }
      ]
    },
    {
      "cell_type": "code",
      "metadata": {
        "colab": {
          "base_uri": "https://localhost:8080/"
        },
        "id": "million-fabric",
        "outputId": "52b74e32-d51d-4d52-b249-72776934589f"
      },
      "source": [
        "print (h3,'\\n')\n",
        "# extract text from h3 tag\n",
        "print (h3.text)"
      ],
      "id": "million-fabric",
      "execution_count": 173,
      "outputs": [
        {
          "output_type": "stream",
          "text": [
            "<h3 style=\"text-align: justify;\">9.  PayPal Holdings, Inc. (NASDAQ: <a href=\"https://www.insidermonkey.com/insider-trading/company/paypal%20holdings%20inc/1633917/\">PYPL</a>): $290.81</h3> \n",
            "\n",
            "9.  PayPal Holdings, Inc. (NASDAQ: PYPL): $290.81\n"
          ],
          "name": "stdout"
        }
      ]
    },
    {
      "cell_type": "code",
      "metadata": {
        "id": "precise-appraisal"
      },
      "source": [
        "def parseheader(h3):\n",
        "    # print (h3)\n",
        "    # convert to string\n",
        "    h3text=h3.text\n",
        "    # print (h3text)\n",
        "    # grab digits at the front of the string (rank)\n",
        "    rank=re.search('^\\d*', h3text).group()\n",
        "    # print (\"rank:\", rank )\n",
        "    # grab the $ price - dollar, zero or more digits, decimal, zero or more digits\n",
        "    price=re.search('\\$\\d*.*\\d*', h3text).group().strip('\\$')\n",
        "    # print (\"price:\", price)\n",
        "    # grab colon separated exchange followed by ticker\n",
        "    exchangeticker=re.sub(' ','', re.search('\\([A-Z]*: [A-Z]*\\)', h3text).group())\n",
        "    # print (\"exchange and ticker:\", exchangeticker)\n",
        "    exchange, ticker=re.sub('\\(|\\)','', exchangeticker).split(':')\n",
        "    # print (\"ticker:\", ticker)\n",
        "    # print (\"exchange:\", exchange)\n",
        "    # google finance compatible ticker\n",
        "    gfinanceticker=ticker+\":\"+exchange\n",
        "    # print (\"Google Finance compatible ticker:\", gfinanceticker)\n",
        "    # grab the stock shortname (this is ugly, but regex will probably not work here)\n",
        "    shortname=h3text.split('(')[0].split('.',1)[1].strip()\n",
        "    # print (shortname)\n",
        "    # print (rank, longticker, shortname, price)\n",
        "    return (rank, gfinanceticker, shortname, price)"
      ],
      "id": "precise-appraisal",
      "execution_count": 164,
      "outputs": []
    },
    {
      "cell_type": "code",
      "metadata": {
        "colab": {
          "base_uri": "https://localhost:8080/"
        },
        "id": "mediterranean-adult",
        "outputId": "8144bdb2-896f-4122-bb6c-612eb96b8035"
      },
      "source": [
        "rank, gfinanceticker, shortname, price = parseheader(h3)\n",
        "print (rank, gfinanceticker, shortname, price)"
      ],
      "id": "mediterranean-adult",
      "execution_count": 174,
      "outputs": [
        {
          "output_type": "stream",
          "text": [
            "9 PYPL:NASDAQ PayPal Holdings, Inc. 290.81\n"
          ],
          "name": "stdout"
        }
      ]
    },
    {
      "cell_type": "code",
      "metadata": {
        "colab": {
          "base_uri": "https://localhost:8080/"
        },
        "id": "excess-truth",
        "outputId": "19e75046-7453-4368-a74d-83aa96336f28"
      },
      "source": [
        "print (p.contents)"
      ],
      "id": "excess-truth",
      "execution_count": 267,
      "outputs": [
        {
          "output_type": "stream",
          "text": [
            "['Number of Hedge Funds: 147 (2020Q4)', '\\nNumber of Hedge Funds: 150 (2020Q3)', '\\nTotal Dollar Amount of Long Hedge Fund Positions: $15.96 billion', '\\nPercent of Hedge Funds with Long Positions: 16.6%', '\\nFirst Quarter Return (through February 18): 24.2%', '\\nPopularity Ranking (2020Q3): 8', '\\nPopularity Ranking (2020Q2): 9', '\\nNoteworthy Hedge Fund Shareholders: ', <a href=\"https://www.insidermonkey.com/hedge-fund/coatue+management/79/\">Philippe Laffont</a>, ',\\xa0', <a href=\"https://www.insidermonkey.com/hedge-fund/scge+management/555/\">Christopher Lyle</a>, ', ', <a href=\"https://www.insidermonkey.com/hedge-fund/fisher+asset+management/11/\">Fisher Asset Management</a>]\n"
          ],
          "name": "stdout"
        }
      ]
    },
    {
      "cell_type": "code",
      "metadata": {
        "id": "UyiikUpLZpao",
        "outputId": "6e3a475f-9861-4933-c8bc-08cd948b5e07",
        "colab": {
          "base_uri": "https://localhost:8080/"
        }
      },
      "source": [
        "print (p.text)"
      ],
      "id": "UyiikUpLZpao",
      "execution_count": 281,
      "outputs": [
        {
          "output_type": "stream",
          "text": [
            "Number of Hedge Funds: 147 (2020Q4)\n",
            "Number of Hedge Funds: 150 (2020Q3)\n",
            "Total Dollar Amount of Long Hedge Fund Positions: $15.96 billion\n",
            "Percent of Hedge Funds with Long Positions: 16.6%\n",
            "First Quarter Return (through February 18): 24.2%\n",
            "Popularity Ranking (2020Q3): 8\n",
            "Popularity Ranking (2020Q2): 9\n",
            "Noteworthy Hedge Fund Shareholders: Philippe Laffont, Christopher Lyle, Fisher Asset Management\n"
          ],
          "name": "stdout"
        }
      ]
    },
    {
      "cell_type": "code",
      "metadata": {
        "id": "static-planning"
      },
      "source": [
        "def parseparagraph(p):\n",
        "    # print (p)\n",
        "    # remove <br> tags\n",
        "    for empty in p.findAll('br'):\n",
        "      empty.extract()\n",
        "    # convert to string\n",
        "    pcontents=p.contents\n",
        "    # print (pcontents)\n",
        "    numhedgefunds2020q4 = re.search ('\\s\\d*\\s', pcontents[0]).group()\n",
        "    numhedgefunds2020q3 = re.search ('\\s\\d*\\s', pcontents[1]).group()\n",
        "    totaldollarlongpositions = re.search ('\\$\\d*.\\d*', pcontents[2]).group().strip('$')\n",
        "    percentfundslongpositions = re.search ('\\d*.\\d*%$', pcontents[3]).group().strip('%')\n",
        "    latestquarterreturn = re.search ('\\d*.\\d*%$', pcontents[4]).group().strip('%')\n",
        "    popranking2020q3 = re.search (' \\d*$', pcontents[5]).group().strip()\n",
        "    popranking2020q2 = re.search (' \\d*$', pcontents[6]).group().strip()\n",
        "    # mumble grumble....\n",
        "    # noteworthyhedgies = pcontents[7]\n",
        "    # print (numhedgefunds2020q4, numhedgefunds2020q3, totaldollarlongpositions, percentfundslongpositions, latestquarterreturn, popranking2020q3, popranking2020q2)\n",
        "    return (numhedgefunds2020q4, numhedgefunds2020q3, totaldollarlongpositions, percentfundslongpositions, latestquarterreturn, popranking2020q3, popranking2020q2)"
      ],
      "id": "static-planning",
      "execution_count": 282,
      "outputs": []
    },
    {
      "cell_type": "code",
      "metadata": {
        "id": "settled-emergency"
      },
      "source": [
        "def parsepositions(input):\n",
        "    # tokens=re.split(':|\\(|\\)', input.strip('\\n'))\n",
        "    tokens=re.split(':|\\$|\\%', input.replace(u'\\xa0', '').strip('\\n'))\n",
        "    # print (tokens)\n",
        "    positionsname=(tokens[0].replace(\" \",\"-\")+'-billions').lower()\n",
        "    positionsvalue=tokens[2].split()[0]\n",
        "    return(positionsname, positionsvalue)"
      ],
      "id": "settled-emergency",
      "execution_count": null,
      "outputs": []
    },
    {
      "cell_type": "code",
      "metadata": {
        "colab": {
          "base_uri": "https://localhost:8080/"
        },
        "id": "ethical-mirror",
        "outputId": "edec986b-3205-4d3b-be6e-7d7a7fdf6e42"
      },
      "source": [
        "numhedgefunds2020q4, numhedgefunds2020q3, totaldollarlongpositions, percentfundslongpositions, latestquarterreturn, popranking2020q3, popranking2020q2=parseparagraph(p)\n",
        "print (numhedgefunds2020q4, numhedgefunds2020q3, totaldollarlongpositions, percentfundslongpositions, latestquarterreturn, popranking2020q3, popranking2020q2)"
      ],
      "id": "ethical-mirror",
      "execution_count": 283,
      "outputs": [
        {
          "output_type": "stream",
          "text": [
            " 147   150  15.96 16.6 24.2 8 9\n"
          ],
          "name": "stdout"
        }
      ]
    },
    {
      "cell_type": "code",
      "metadata": {
        "id": "hiOLauCzo8PO",
        "outputId": "ee3d6e45-0a54-436c-93f0-065b0edfb6ba",
        "colab": {
          "base_uri": "https://localhost:8080/"
        }
      },
      "source": [
        "for i in range(25, numstocks+1):\n",
        "    url=root+str(i)\n",
        "    print (url)\n",
        "    page=requests.get(url)\n",
        "    if (page.status_code == success):\n",
        "        print('Visited URL: {}'.format(page.url))\n",
        "        html = BeautifulSoup(page.content, 'html.parser')\n",
        "        # extract the <h3> tag\n",
        "        h3=html.body.h3\n",
        "        # extract the <p> tag\n",
        "        if i==1: # hack for the first page\n",
        "            p=html.select('p')[18]\n",
        "        else: p=html.body.p\n",
        "        rank, gfinanceticker, shortname, price = parseheader(h3)\n",
        "        numhedgefunds2020q4, numhedgefunds2020q3, totaldollarlongpositions, percentfundslongpositions, latestquarterreturn, popranking2020q3, popranking2020q2=parseparagraph(p)\n",
        "\n",
        "        print (rank, gfinanceticker, shortname, price)\n",
        "        print (numhedgefunds2020q4, numhedgefunds2020q3, totaldollarlongpositions, percentfundslongpositions, latestquarterreturn, popranking2020q3, popranking2020q2)\n",
        "    else:\n",
        "        print ('Oops, got error: {}', format(page.status_code))\n",
        "print (\"Done!\")"
      ],
      "id": "hiOLauCzo8PO",
      "execution_count": 293,
      "outputs": [
        {
          "output_type": "stream",
          "text": [
            "https://www.insidermonkey.com/blog/30-most-popular-stocks-among-hedge-funds-2020-q4-rankings-920904/25\n",
            "Visited URL: https://www.insidermonkey.com/blog/30-most-popular-stocks-among-hedge-funds-2020-q4-rankings-920904/25/\n",
            "6 GOOG:NASDAQ Alphabet Inc. Class C 2,117.20\n",
            " 157   150  20.6 17.7 20.9 7 8\n",
            "https://www.insidermonkey.com/blog/30-most-popular-stocks-among-hedge-funds-2020-q4-rankings-920904/26\n",
            "Visited URL: https://www.insidermonkey.com/blog/30-most-popular-stocks-among-hedge-funds-2020-q4-rankings-920904/26/\n",
            "5 V:NYSE Visa Inc. 209.35\n",
            " 166   160  23.6 18.7 4.1 6 6\n",
            "https://www.insidermonkey.com/blog/30-most-popular-stocks-among-hedge-funds-2020-q4-rankings-920904/27\n",
            "Visited URL: https://www.insidermonkey.com/blog/30-most-popular-stocks-among-hedge-funds-2020-q4-rankings-920904/27/\n",
            "4 GOOGL:NASDAQ Alphabet Inc. Class A 2,105.81\n",
            " 179   162  21.9 20.2 20.2 5 4\n",
            "https://www.insidermonkey.com/blog/30-most-popular-stocks-among-hedge-funds-2020-q4-rankings-920904/28\n",
            "Visited URL: https://www.insidermonkey.com/blog/30-most-popular-stocks-among-hedge-funds-2020-q4-rankings-920904/28/\n",
            "3 FB:NASDAQ Facebook, Inc. 269.39\n",
            " 242   230  38.23 27.3 1.4 3 3\n",
            "https://www.insidermonkey.com/blog/30-most-popular-stocks-among-hedge-funds-2020-q4-rankings-920904/29\n",
            "Visited URL: https://www.insidermonkey.com/blog/30-most-popular-stocks-among-hedge-funds-2020-q4-rankings-920904/29/\n",
            "2 MSFT:NASDAQ Microsoft Corporation 243.79\n",
            " 258   234  52.9 29.1 9.9 2 2\n",
            "https://www.insidermonkey.com/blog/30-most-popular-stocks-among-hedge-funds-2020-q4-rankings-920904/30\n",
            "Visited URL: https://www.insidermonkey.com/blog/30-most-popular-stocks-among-hedge-funds-2020-q4-rankings-920904/30/\n",
            "1 AMZN:NASDAQ Amazon.com, Inc. 3,328.23\n",
            " 273   245  51.5 30.8 2.2 1 1\n",
            "Done!\n"
          ],
          "name": "stdout"
        }
      ]
    },
    {
      "cell_type": "code",
      "metadata": {
        "id": "bT4O9dqerieN"
      },
      "source": [
        ""
      ],
      "id": "bT4O9dqerieN",
      "execution_count": null,
      "outputs": []
    }
  ]
}