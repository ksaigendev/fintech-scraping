{
  "nbformat": 4,
  "nbformat_minor": 0,
  "metadata": {
    "colab": {
      "name": "webscraping",
      "provenance": [],
      "authorship_tag": "ABX9TyOt0q8MKC+2mbJ6wEuoEAEL",
      "include_colab_link": true
    },
    "kernelspec": {
      "name": "python3",
      "display_name": "Python 3"
    },
    "language_info": {
      "name": "python"
    }
  },
  "cells": [
    {
      "cell_type": "markdown",
      "metadata": {
        "id": "view-in-github",
        "colab_type": "text"
      },
      "source": [
        "<a href=\"https://colab.research.google.com/github/ksaigendev/fintech-scraping/blob/main/webscraping.ipynb\" target=\"_parent\"><img src=\"https://colab.research.google.com/assets/colab-badge.svg\" alt=\"Open In Colab\"/></a>"
      ]
    },
    {
      "cell_type": "code",
      "metadata": {
        "id": "HMreeXR13glA"
      },
      "source": [
        "# fetching urls\n",
        "import requests"
      ],
      "execution_count": 1,
      "outputs": []
    },
    {
      "cell_type": "code",
      "metadata": {
        "id": "-3v0q6_d4DZ_"
      },
      "source": [
        "prefix='https://investor.vanguard.com/mutual-funds/profile/overview/VTSAX/portfolio-holdings/'\n",
        "funds=['VIGAX', 'VIMAX', 'VMVAX', 'VSMAX', 'VTIAX','VTSAX']\n",
        "postfix='/portfolio-holdings'\n",
        "success=200"
      ],
      "execution_count": 40,
      "outputs": []
    },
    {
      "cell_type": "code",
      "metadata": {
        "colab": {
          "base_uri": "https://localhost:8080/"
        },
        "id": "ULkQ_CDz6DDa",
        "outputId": "9d8f68c9-7235-4644-a710-82a266f08766"
      },
      "source": [
        "for fund in funds:\n",
        "    url=prefix+fund+postfix\n",
        "    print (url)"
      ],
      "execution_count": 41,
      "outputs": [
        {
          "output_type": "stream",
          "text": [
            "https://investor.vanguard.com/mutual-funds/profile/overview/VTSAX/portfolio-holdings/VIGAX/portfolio-holdings\n",
            "https://investor.vanguard.com/mutual-funds/profile/overview/VTSAX/portfolio-holdings/VIMAX/portfolio-holdings\n",
            "https://investor.vanguard.com/mutual-funds/profile/overview/VTSAX/portfolio-holdings/VMVAX/portfolio-holdings\n",
            "https://investor.vanguard.com/mutual-funds/profile/overview/VTSAX/portfolio-holdings/VSMAX/portfolio-holdings\n",
            "https://investor.vanguard.com/mutual-funds/profile/overview/VTSAX/portfolio-holdings/VTIAX/portfolio-holdings\n",
            "https://investor.vanguard.com/mutual-funds/profile/overview/VTSAX/portfolio-holdings/VTSAX/portfolio-holdings\n"
          ],
          "name": "stdout"
        }
      ]
    },
    {
      "cell_type": "code",
      "metadata": {
        "id": "C_QL-8Le6Swn"
      },
      "source": [
        "page=requests.get(url)"
      ],
      "execution_count": 42,
      "outputs": []
    },
    {
      "cell_type": "code",
      "metadata": {
        "colab": {
          "base_uri": "https://localhost:8080/"
        },
        "id": "KuDZ7cET6WG5",
        "outputId": "252154c7-bffb-4313-ef68-d8aebbf22cc3"
      },
      "source": [
        "print (page.status_code)\n",
        "print (page.content)"
      ],
      "execution_count": 43,
      "outputs": [
        {
          "output_type": "stream",
          "text": [
            "200\n",
            "b'<!doctype html>\\r\\n<html lang=\"en\" id=\"psApp\" data-modules=\"patterns.organisms.vanguard-products.run\">\\r\\n\\t<head>\\r\\n\\t\\t<link rel=\"icon\" href=\"/favicon.ico\">\\r\\n\\t\\t<link rel=\"alternate\" hreflang=\"en-US\" href=\"https://investor.vanguard.com:443/mutual-funds/profile/overview/VTSAX/portfolio-holdings/VTSAX/portfolio-holdings\"/>\\r\\n\\t\\t<meta http-equiv=\"X-UA-Compatible\" content=\"IE=edge\" />\\r\\n\\t\\t<meta data-viewport name=\"viewport\" content=\"width=device-width, initial-scale=1.0, minimum-scale=1.0\">\\r\\n\\t\\t<link  rel=\"stylesheet\" href=\"/static/global/css/1.1.0/reset.css\" type=\"text/css\"  />\\r\\n<link  rel=\"stylesheet\" href=\"/patterns/693/css/template-base-rwd.min.css\" type=\"text/css\"  />\\r\\n<link  rel=\"stylesheet\" href=\"/patterns/693/css/template-content-full-width-rwd.min.css\" type=\"text/css\"  />\\r\\n<link  rel=\"stylesheet\" href=\"https://ccc.vgcontent.info/vg-vgn/latest/css/vgn.min.css?appPrefix=PSE_PSW\" type=\"text/css\"  />\\r\\n<link  rel=\"stylesheet\" href=\"/patterns/693/css/psr-patterns.min.css\" type=\"text/css\"  />\\r\\n<!--[if lte IE 7]>\\r\\n\\t<link  rel=\"stylesheet\" href=\"/patterns/693/css/ie_lte_7.min.css\" type=\"text/css\"  />\\r\\n<!-- <![endif]-->\\r\\n<!--[if lte IE 9]>\\r\\n\\t<link  rel=\"stylesheet\" href=\"/patterns/693/css/ie_lte_9.min.css\" type=\"text/css\"  />\\r\\n<!-- <![endif]-->\\r\\n<title>Vanguard Mutual Fund Profile | Vanguard</title>\\r\\n\\t\\t<!-- DCRNAME: sites/PSE  /Properties/Extended/data/mutual-funds/profile -->\\r\\n\\t\\t<style>\\r\\n\\t\\t\\t\\t</style>\\r\\n\\t\\t<meta name=\"KEYWORDS\" content=\"\" />\\r\\n\\t\\t\\t<meta name=\"DESCRIPTION\"\\r\\n\\t\\t\\tcontent=\"\" />\\r\\n\\t\\t\\t<meta name=\"SEARCH_PRIORITY\"\\r\\n\\t\\t\\tcontent=\"0\" />\\r\\n\\t\\t\\t<meta name=\"ps-setting.TealeafDisabledPage\" content=\"false\"/>\\r\\n\\t<meta name=\"ps-setting.TealeafEnabledGS\" content=\"true\"/>\\r\\n<meta name=\"ps-setting.isRwdEnabled\" content=\"true\"/>\\r\\n<meta name=\"ps-setting.secureSiteAddress\" content=\"https://personal.vanguard.com\"/>\\r\\n<meta name=\"ps-setting.investorAddress\" content=\"https://investor.vanguard.com\"/>\\r\\n<meta name=\"ps-setting.teamsiteRootUrl\" content=\"\"/>\\r\\n<meta name=\"ps-setting.staticResourcePrefix\" content=\"/static\"/>\\r\\n<meta name=\"ps-setting.retRESTAddressFunds\" content=\"https://api.vanguard.com/rs/ire/01\"/>\\r\\n<meta name=\"ps-setting.retRESTAddressFundsSilo03\" content=\"https://api.vanguard.com/rs/ire/01\"/>\\r\\n<meta name=\"ps-setting.mkeRESTAddress\" content=\"/api/proxy/mke\"/>\\r\\n<meta name=\"ps-setting.mkeRESTAddressSilo2Version2\" content=\"https://api.vanguard.com/rs/mke/02/2.0\"/>\\r\\n<meta name=\"ps-setting.retirementAddress\" content=\"https://retirementplans.vanguard.com\"/>\\r\\n<meta name=\"ps-setting.isInternalUser\" content=\"false\"/>\\r\\n<meta name=\"ps-setting.isLoggedOn\" content=\"false\"/>\\r\\n<meta name=\"ps-setting.searchRESTAddress\" content=\"https://api.vanguard.com/rs/sae\"/>\\r\\n<meta name=\"ps-setting.nowYear\" content=\"2021\"/>\\r\\n<meta name=\"ps-setting.projectVersion\" content=\"2.001.0-SNAPSHOT\"/>\\r\\n<meta name=\"ps-setting.csaVersion\" content=\"17.950.1-M20160122-01\"/>\\r\\n<meta name=\"ps-setting.rteLevel\" content=\"prd\"/>\\r\\n<meta name=\"ps-setting.clientSideVersionNumber\" content=\"693\"/>\\r\\n<meta name=\"ps-setting.patternsResourcesAddress\" content=\"/patterns\"/>\\r\\n<meta name=\"ps-setting.productsAddressVersioned\" content=\"https://invproductsui.vanguard.com/products/2.3.9\"/>\\r\\n<meta name=\"ps-setting.pseIruleEnabled\" content=\"false\"/>\\r\\n<meta name=\"ps-setting.pseCodEnabled\" content=\"false\"/>\\r\\n<meta name=\"ps-setting.awsLogonUrl\" content=\"https://api.cf.opsp.c1.vanguard.com/rs/cf/common-logon-logoff-webservice-dct/logon/username-and-password\"/>\\r\\n<meta name=\"ps-setting.awsXSRFRetrieverUrl\" content=\"https://api.cf.opsp.c1.vanguard.com/rs/cf/common-logon-logoff-webservice-dct/logon\"/>\\r\\n<meta name=\"ps-setting.pseIruleCdnDomain\" content=\"https://static.vgcontent.info/ret/pse\"/>\\r\\n<meta name=\"ps-setting.pseCodCdnDomain\" content=\"https://static.vgcontent.info/ret/hnw/satellite-webapps/pse/02\"/>\\r\\n<meta name=\"ps-setting.eusIruleCdnDomain\" content=\"https://static.vgcontent.info/ret/eus/\"/>\\r\\n<meta name=\"ps-setting.eusCodCdnDomain\" content=\"https://static.vgcontent.info/ret/hnw/satellite-webapps/eus\"/>\\r\\n<meta name=\"ps-setting.awsLogonPath\" content=\"https://api.cf.opsp.c1.vanguard.com/rs/cf/common-logon-logoff-webservice/logon/username-and-password\"/>\\r\\n<meta name=\"ps-setting.awsGetXSRFUrl\" content=\"https://api.cf.opsp.c1.vanguard.com/rs/cf/common-logon-logoff-webservice/logon\"/>\\r\\n<meta name=\"ps-setting.awsDctXSRFRetrieverUrl\" content=\"https://api.cf.opsp.c1.vanguard.com/rs/cf/common-logon-logoff-webservice-dct/logon\"/>\\r\\n<base href=\"/mutual-funds/profile/\">\\r\\n\\t\\t\\t<script src=\"https://static-c1a.vgcontent.info/web/cf/adobe-launch-tagmgt-webapp/pkg/1.0.0/web/js/external_libs/Retail_PRD/Public/launch-ENaff5a2c08b8348728fe2a48d15f8c174.min.js \" async></script>\\r\\n\\t\\t<script type=\"application/json\" id=\"cccAppDynamics\">{\"xd\":{\"enable\":false},\"spa\":{\"spa2\":true},\"appKey\":\"AD-AAB-AAM-PSP\",\"adrumExtUrl\":\"https://static-c1a.vgcontent.info/web/cf/ccc-libs/vg-app-dynamics/1.2.1/js\"}</script><script type=\"application/json\" id=\"cccVMSConfig\">[{\"text\":\"<strong>Important: Update your browser!</strong><br>Don\\'t lose your online connection with us. To continue accessing our website and your accounts online, you\\'ll need to update your current web browser to a newer version. Older browsers can have security risks, so we\\'ll be ending support for your browser soon.  <a style=\\'color:#e37222\\' class=\\'vmsHelpLink\\' href=\\'https://investor.vanguard.com/customer-service/password-user-name-browser?cmpgn=EM:RIG:ED:browser:CREATIV1:Email:0518:0101:MEC:OSC:0323\\' target=\\'_blank\\'>Learn more about browser updates</a>\",\"for\":\"BROWSER\",\"enabled\":true},{\"text\":\"Our website is scheduled to be unavailable during the weekend of November 3, 2018.  Thank you for your patience.\",\"for\":\"LOGGED_IN_USER\",\"enabled\":false}]</script><script type=\"application/json\" id=\"cbdcommon-webAnalytics\">{}</script><script type=\"application/json\" id=\"cccAdobeConfig\">{\"adobeConfig\":{\"version\":\"2.7.2\",\"siteIdentifier\":\"retail\",\"platform\":\"web\",\"country\":\"us\",\"language\":\"en\",\"reportSuiteIds\":[\"vanguard<siteDescriptor><environment>\"],\"dfaEnabled\":true,\"dfaMaxDelay\":\"750\",\"dfaSPOTID\":\"844392\",\"aamEnabled\":true,\"aamCustomerID\":\"spoid_id\",\"aamCustomerIDContextKey\":\"sPOID\",\"aamContainerNSID\":2,\"environment\":\"prod\"}}</script><script type=\\'text/javascript\\' src=\\'https://static-c1a.vgcontent.info/web/cf/ccc-libs/vg-app-dynamics/1.2.1/js/app_dynamics.min.js\\'></script><script type=\\'text/javascript\\' src=\\'https://static-c1a.vgcontent.info/web/cf/ccc-libs/vg-message-svc/2.0.0/js/vms.min.js\\' async></script><script type=\\'text/javascript\\' src=\\'https://static-c1a.vgcontent.info/web/cf/ccc-libs/vg-adobe-analytics/2.7.2/AllAppMeasurement.min.js\\'></script></head>\\r\\n\\t<body id=\"body\" class=\"ps\" data-link-reporting>\\r\\n\\t\\t<div id=\"main-wrapper\" data-aria-support data-accordion-manager>\\r\\n\\t\\t\\t<script>\\r\\n\\t\\t\\t\\t\\tdocument.body.className = document.body.className + \\' js\\';\\r\\n\\t\\t\\t\\t</script>\\r\\n\\t\\t\\t<div>\\r\\n\\t\\t\\t\\t\\t<a class=\"skip-navigation\" data-hash-navigation href=\"#main-content\">Skip to main content</a>\\r\\n\\t\\t\\t\\t</div>\\t\\r\\n\\t\\t\\t<div id=\\'vgn-globalHeader\\' data-vgn-source=\"https://rgh.ecs.retp.c1.vanguard.com/taxonomy\"></div>\\r\\n   <div class=\"template break-A\">\\r\\n\\t\\t\\t<div class=\"template-region first-region\" >\\r\\n\\t\\t\\t\\t<div data-social-media class=\"social-media\">\\r\\n\\t<a data-twitter-button id=\"share-twitter\" class=\"twitter-button\" intent=\"https://twitter.com/intent/tweet\" \\r\\ntitle=\"Share on Twitter\" tabindex=\"0\" url=\"https://investor.vanguard.com:443/mutual-funds/profile/overview/VTSAX/portfolio-holdings/VTSAX/portfolio-holdings\" >\\r\\n\\t<span>tweet this</span>\\r\\n</a><a data-linkedin-button id=\"share-linkedin\" class=\"linkedin-button\" intent=\"https://www.linkedin.com/shareArticle\" title=\"Share on LinkedIn\" tabindex=\"0\" url=\"https://investor.vanguard.com:443/mutual-funds/profile/overview/VTSAX/portfolio-holdings/VTSAX/portfolio-holdings\">\\r\\n\\t<span>share this on linkedin</span>\\r\\n</a></div>\\r\\n<div data-context-bar aria-label=\"breadcrumbs\" role=\"navigation\">\\r\\n\\t<ul>\\r\\n\\t<li>\\r\\n\\t\\t\\t<span class=\"breadcrumb-item-container\">\\r\\n\\t\\t\\t\\t<a href=\\'/investing/\\'>Investing</a>\\r\\n\\t\\t\\t\\t<span class=\"breadcrumb-icon\">&nbsp;</span>\\r\\n\\t\\t\\t</span>\\r\\n\\t\\t</li>\\r\\n\\t\\t<li>\\r\\n\\t\\t\\t<span class=\"breadcrumb-item-container\">\\r\\n\\t\\t\\t\\t<a href=\\'/investing/investment-products\\'>Investment products</a>\\r\\n\\t\\t\\t\\t<span class=\"breadcrumb-icon\">&nbsp;</span>\\r\\n\\t\\t\\t</span>\\r\\n\\t\\t</li>\\r\\n\\t\\t<li>\\r\\n\\t\\t\\t<span class=\"breadcrumb-item-container\">\\r\\n\\t\\t\\t\\t<a href=\\'/mutual-funds/\\'>Vanguard mutual funds</a>\\r\\n\\t\\t\\t\\t<span class=\"breadcrumb-icon\">&nbsp;</span>\\r\\n\\t\\t\\t</span>\\r\\n\\t\\t</li>\\r\\n\\t\\t<li>\\r\\n\\t\\t\\t\\t\\t<span class=\"breadcrumb-item-container\">\\r\\n\\t\\t\\t\\t\\t\\t<a href=\\'/mutual-funds/fund-types\\'>Choose your funds</a>\\r\\n\\t\\t\\t\\t\\t\\t<span class=\"breadcrumb-icon\">&nbsp;</span>\\r\\n\\t\\t\\t\\t\\t</span>\\r\\n\\t\\t\\t\\t</li>\\r\\n\\t\\t\\t</ul>\\r\\n</div>\\r\\n\\r\\n</div>\\r\\n\\t\\t\\t<div id=\"main-content\" class=\"template-region top-region\" >\\r\\n\\t\\t\\t\\t<div data-facet=\\'intensity3\\'>\\r\\n\\t<ul class=\"facetBar\" role=\"menubar\">\\r\\n\\t\\t<li class=\"\">\\r\\n\\t\\t\\t\\t<a href=\\'/mutual-funds/\\' role=\"menuitem\" aria-selected=\"false\">\\r\\n\\t\\t\\t\\t\\tLearn about mutual funds</a>\\r\\n\\t\\t\\t</li>\\r\\n\\t\\t<li class=\"\">\\r\\n\\t\\t\\t\\t<a href=\\'/mutual-funds/no-load-funds\\' role=\"menuitem\" aria-selected=\"false\">\\r\\n\\t\\t\\t\\t\\tDiscover Vanguard\\'s advantages</a>\\r\\n\\t\\t\\t</li>\\r\\n\\t\\t<li class=\"selected\">\\r\\n\\t\\t\\t\\t<a href=\\'/mutual-funds/fund-types\\' role=\"menuitem\" aria-selected=\"true\">\\r\\n\\t\\t\\t\\t\\tChoose your mutual funds</a>\\r\\n\\t\\t\\t</li>\\r\\n\\t\\t<li class=\"\">\\r\\n\\t\\t\\t\\t<a href=\\'/mutual-funds/account-types\\' role=\"menuitem\" aria-selected=\"false\">\\r\\n\\t\\t\\t\\t\\tDecide which type of account</a>\\r\\n\\t\\t\\t</li>\\r\\n\\t\\t<li class=\"\">\\r\\n\\t\\t\\t\\t<a href=\\'/mutual-funds/how-to-open-account-online\\' role=\"menuitem\" aria-selected=\"false\">\\r\\n\\t\\t\\t\\t\\tOpen an account in 3 steps</a>\\r\\n\\t\\t\\t</li>\\r\\n\\t\\t</ul>\\r\\n</div>\\r\\n\\r\\n</div>\\r\\n\\t\\t\\t<div id=\"content-region\" class=\"template-region content-region containsFloats\">\\r\\n\\t\\t\\t\\t<div class=\"template-region primary-region break-A\">\\r\\n\\t\\t\\t\\t\\t<link  rel=\"stylesheet\" href=\"https://invproductsui.vanguard.com/products/2.3.9/css/profile.min.css\" type=\"text/css\"  />\\r\\n<div id = \\'vanguardProudctsScrimArea\\'>\\r\\n\\t\\r\\n\\t\\t<div>\\r\\n\\t\\t  <div>\\r\\n\\t\\t\\t   <div data-ng-view class=\"funds-profile\" autoscroll=\"true\" ></div>\\r\\n\\t\\t  </div>\\r\\n\\t\\t</div>\\r\\n\\t<script type=\"text/javascript\">\\r\\n\\t\\t\\t(function () {\\r\\n\\t\\t\\t\\tif (typeof window.ps === \\'undefined\\') {\\r\\n\\t\\t\\t\\t\\twindow.ps = {};\\r\\n\\t\\t\\t\\t}\\r\\n\\t\\t\\t\\tif (typeof window.ps.settings === \\'undefined\\') {\\r\\n\\t\\t\\t\\t\\twindow.ps.settings = {};\\r\\n\\t\\t\\t\\t}\\r\\n\\t\\t\\t\\twindow.ps.settings.productsAddress = \\'https://invproductsui.vanguard.com\\';\\r\\n\\t\\t\\t\\twindow.ps.settings.productsAddressVersioned = \\'https://invproductsui.vanguard.com/products/2.3.9\\';\\r\\n\\t\\t\\t\\twindow.ps.settings.isValidBrokerageClient = \\'false\\';\\r\\n\\t\\t\\t})();\\r\\n\\t</script>\\r\\n\\t<div data-ng-include=\"\\'https://invproductsui.vanguard.com/products/2.3.9/component/layers/layers.tpl.html\\'\"></div>\\r\\n\\t</div></div>\\r\\n\\t\\t\\t\\t<div class=\"template-region secondary-region fullWidthAside\">\\r\\n\\t\\t\\t\\t\\t\\t<div class=\"aside\" data-aside-active-link> \\r\\n\\t<div class=\"asideSection\">\\r\\n\\t\\t<a role=\"button\" class=\"largeStrong\"  href=\"https://personal.vanguard.com/us/openaccount?CompLocation=mf_overview&Component=OpenAccountRN  \">Open your account online</a><h2 class=\"headline headlineC1\">We\\'re here to help</h2>\\r\\n\\r\\n\\r\\n<div class=\"standalone-link\">\\r\\n\\tHave questions? <a href=\"https://support.vanguard.com/\"><span>Contact us</span></a></div>\\r\\n<div class=\"asideContact\">\\r\\n\\t<p class=\"description\">If you\\'re already a Vanguard client:</p>\\r\\n\\t<p class=\"phoneNumber\">Call 800-888-3751</p>\\r\\n\\t<p class=\"schedule\"><strong>Monday through Friday</strong><br/>\\r\\n\\t\\t8 a.m. to 8 p.m., Eastern time</p>\\r\\n\\t</div>\\r\\n</div>\\r\\n\\t<div class=\"asideSection\">\\r\\n\\t\\t\\t<h3 class=\"headline headlineH\">WANT SOME ADVICE?</h3>\\r\\n\\r\\n\\r\\n<div class=\"standalone-link\">\\r\\n\\t<a href=\"/financial-advisor/financial-advice\"><span>Partner with a Vanguard advisor</span></a> </div>\\r\\n<div class=\"standalone-link\">\\r\\n\\t<a href=\"https://investor.vanguard.com/advice/digital-advisor\"><span>Learn about Vanguard Digital Advisor&#174;</span></a></div>\\r\\n<h3 class=\"headline headlineH\">WANT TO LEARN MORE?</h3>\\r\\n\\r\\n\\r\\n<div class=\"standalone-link\">\\r\\n\\t<a href=\"https://about.vanguard.com/what-sets-vanguard-apart/principles-for-investing-success/\"><span>Understand Vanguard\\'s principles for investing success</span></a></div>\\r\\n<div class=\"standalone-link\">\\r\\n\\t<a href=\"https://personal.vanguard.com/us/insights/saving-investing/model-portfolio-allocations\"><span>See how 9 model portfolios have performed in the past</span></a></div>\\r\\n<h3 class=\"headline headlineH\">INTERESTED IN EXCHANGE-TRADED FUNDS?</h3>\\r\\n\\r\\n\\r\\n<div class=\"standalone-link\">\\r\\n\\t<a href=\"/etf/etf-vs-mutual-fund\"><span>Compare ETFs vs. mutual funds</span></a></div>\\r\\n</div>\\r\\n\\t</div></div>\\r\\n\\t\\t\\t\\t</div>\\r\\n\\t\\t\\t</div>\\t\\t\\t\\r\\n\\t<div id=\\'vgn-globalFooter\\' data-ref=\\'#vgn-globalHeader\\'></div>\\r\\n    <script type=\"text/javascript\" src=\"https://ccc.vgcontent.info/vg-vgn/latest/js/vgn.min.js?appPrefix=PSE_PSW\"></script>\\r\\n</div> \\r\\n\\t\\t<noscript id=\"adobeAnalyticsNoScript\">\\r\\n\\t\\t<img src=\"https://vanguard.d2.sc.omtrdc.net/b/ss/vanguardretailprod,vanguardcrosssiteprod/1/H.26.2--NS/0\" data-skip-test=\"true\" />\\r\\n\\t</noscript>\\r\\n<script type=\"text/javascript\" src=\"https://static.vgcontent.info/web/common/jquery/1.8.2/jquery.min.js\"></script>\\r\\n<script type=\"text/javascript\" src=\"https://static.vgcontent.info/web/common/angularjs/1.2.14/angular.min.js\"></script>\\r\\n<script type=\"text/javascript\" src=\"https://static.vgcontent.info/web/common/angularjs/1.2.14/angular-sanitize.min.js\"></script>\\r\\n<script type=\"text/javascript\" src=\"https://static.vgcontent.info/web/common/angularjs/1.2.14/angular-route.min.js\"></script>\\r\\n<script type=\"text/javascript\" src=\"https://invproductsui.vanguard.com/products/2.3.9/js/profile.min.js\"></script>\\r\\n<!--[if lt IE 8]>\\r\\n\\t<script type=\"text/javascript\" src=\"https://static.vgcontent.info/web/common/json3/3.2.5/json3.min.js\"></script>\\r\\n<!-- <![endif]-->\\r\\n\\r\\n<script type=\"text/javascript\" src=\"/static/passmark-fingerprint/1.0.0/hash.js\"></script>\\r\\n<script type=\"text/javascript\" src=\"/static/passmark-fingerprint/1.0.0/rsa.js\"></script>\\r\\n<!-- deferred key [app-banners-template] --><script id=\"app-banners-template\" type=\"text/x-jquery-tmpl\">\\r\\n\\t\\t<div class=\"banner\" ng-show=\"showBanner\">\\n\\t<span class=\"bannerCloseButton\" data-ng-click=\"closeBanner()\">&nbsp;</span>\\n\\t<div class=\"appIcon\">\\n\\t\\t<img title=\"Close\" data-ng-src=\"{{imageSrc}}\"/>\\n\\t</div>\\n\\t<div class=\"bannerContent\">\\n\\t\\t<p class=\"bannerTitle\">{{title}}</p>\\n\\t\\t<p class=\"bannerSubtext\" data-ng-bind-html=\"subtext\">{{subtext}}</p>\\n\\t</div>\\n\\t<div class=\"bannerAppLink\" data-ng-bind-html=\"appLink\">{{appLink}}</div>\\n</div></script>\\r\\n<!-- deferred key [context-bar-template] --><script id=\"context-bar-template\" type=\"text/x-jquery-tmpl\">\\r\\n\\t\\t<span data-ng-click=\"toggleBreadcrumb($event)\" class=\"breadcrumb-expander\" data-ng-class=\"{expanded:showBreadcrumbs}\" role=\"button\" title=\"Select a previous page\">\\r\\n\\t<span class=\"button-container\">\\r\\n\\t\\t<span class=\"image\" data-ng-class=\"{downArrow: showBreadcrumbs}\">&nbsp;</span>\\r\\n\\t\\t<span class=\"label-container\">\\r\\n\\t\\t\\t<a data-keyboard-actionable class=\"label\">Back</a>\\r\\n\\t\\t</span>\\r\\n\\t</span>\\r\\n</span>\\r\\n\\r\\n<div class=\"breadcrumbs collapsible\" data-ng-class=\"{expanded:showBreadcrumbs}\" data-ng-transclude /></script>\\r\\n<!-- deferred key [facet-template] --><script id=\"facet-template\" type=\"text/x-jquery-tmpl\">\\r\\n\\t\\t<div data-on-escape=\"closeContainer($event); resetFocus($event);\" class=\"menu\" role=\"menu\">\\n\\t<div class=\"menu-dropdown\" data-ng-click=\"toggleContainer($event);\" role=\"button\" aria-haspopup=\"true\">\\n\\t\\t<div class=\"option-menu-toggle\">\\n\\t\\t\\t<div class=\"option-menu-toggle-arrow\">\\n\\t\\t\\t</div>\\n\\t\\t</div>\\n\\t\\t<div class=\"selected-page-label-container\">\\n\\t\\t\\t<a data-focus-when=\"resetFocus\" data-keyboard-actionable data-on-enter=\"focusFirstItem();\" class=\"selected-page-label\">{{facets[selectedIndex].label}}</a>\\n\\t\\t\\t<span class=\"page-indicator\">{{selectedIndex+1}}/{{numberOfItems}}</span>\\n\\t\\t</div>\\n\\t</div>\\n\\t<div data-on-tab=\"closeContainer($event);\" class=\"option-container-container\" data-ng-class=\"{hidden:containerHidden}\">\\n\\t\\t<ul data-ng-keydown=\\'arrowNavigation($event)\\' class=\"option-container\">\\n\\t\\t\\t<li data-ng-repeat=\"facet in facets\" data-ng-class=\"{selected:$index === selectedIndex}\"><a role=\"menuitem\"  data-ng-href=\"{{facet.link}}\" tabindex=\"-1\" data-focus-when=\\'matchingIndex{{$index}}\\' data-index=\"{{$index}}\" >{{facet.label}}</a></li>\\n\\t\\t</ul>\\n\\t</div>\\n</div>\\n<span id=\"facetbarHiddenText\" class=\"accessibleOffscreenText\">selected</span>\\n<nav aria-label=\"Content bar\">\\n<ul class=\"facetBar w-1-{{numberOfItems}} containsFloats\" data-ng-keydown=\\'leftRightArrowNavigation($event)\\'>\\n\\t<li data-ng-repeat=\"facet in facets\" data-ng-class=\"{selected:$index === selectedIndex}\" ><a data-ng-href=\"{{facet.link}}\" data-focus-when=\\'matchingFacetIndex{{$index}}\\' data-index=\"{{$index}}\" >{{facet.label}}</a></li>\\n</ul>\\n</nav>\\n</script>\\r\\n<script type=\"text/javascript\" src=\"/patterns/693/js/vanguard-products-script.min.js\"></script>\\r\\n<script data-tealeaf type=\"text/x-jquery-tmpl\"></script>\\r\\n \\r\\n<span>\\r\\n\\t\\t\\t\\t\\t<iframe id=\"floodIframe\" data-delayed-src=\"https://fls.doubleclick.net/activityi;src=844392;u7=vgmf;type=remar743;cat=mutua911;u1=prd;ord=1616988156819?\" ></iframe>\\r\\n\\t\\t\\t\\t</span>\\r\\n\\t\\t\\t</body>\\r\\n</html>\\r\\n\\r\\n'\n"
          ],
          "name": "stdout"
        }
      ]
    },
    {
      "cell_type": "code",
      "metadata": {
        "id": "bpLg_etC7CZV"
      },
      "source": [
        "from bs4 import BeautifulSoup"
      ],
      "execution_count": 10,
      "outputs": []
    },
    {
      "cell_type": "code",
      "metadata": {
        "id": "hUEI2cNh7Pr4"
      },
      "source": [
        "html = BeautifulSoup(page.content, 'html.parser')"
      ],
      "execution_count": 44,
      "outputs": []
    },
    {
      "cell_type": "code",
      "metadata": {
        "id": "N3dO3dnX7fni"
      },
      "source": [
        "# html.find_all() # gets all tags"
      ],
      "execution_count": 17,
      "outputs": []
    },
    {
      "cell_type": "code",
      "metadata": {
        "colab": {
          "base_uri": "https://localhost:8080/"
        },
        "id": "Bc9oO7kE9S4A",
        "outputId": "cf4697ae-c47d-4117-e66c-30725cdb527b"
      },
      "source": [
        "html.title"
      ],
      "execution_count": 45,
      "outputs": [
        {
          "output_type": "execute_result",
          "data": {
            "text/plain": [
              "<title>Vanguard Mutual Fund Profile | Vanguard</title>"
            ]
          },
          "metadata": {
            "tags": []
          },
          "execution_count": 45
        }
      ]
    },
    {
      "cell_type": "code",
      "metadata": {
        "id": "JrcVbURl95qM"
      },
      "source": [
        "# html.head"
      ],
      "execution_count": 47,
      "outputs": []
    },
    {
      "cell_type": "code",
      "metadata": {
        "colab": {
          "base_uri": "https://localhost:8080/"
        },
        "id": "lXQbrt_d-A5h",
        "outputId": "0b5b96ca-1b73-4dce-efa0-ab58dc887818"
      },
      "source": [
        "html.head.findAll('title')"
      ],
      "execution_count": 48,
      "outputs": [
        {
          "output_type": "execute_result",
          "data": {
            "text/plain": [
              "[<title>Vanguard Mutual Fund Profile | Vanguard</title>]"
            ]
          },
          "metadata": {
            "tags": []
          },
          "execution_count": 48
        }
      ]
    },
    {
      "cell_type": "code",
      "metadata": {
        "colab": {
          "base_uri": "https://localhost:8080/"
        },
        "id": "xTdbvH-D-g7l",
        "outputId": "48a9ae45-6b70-4e1c-f02b-6c4ed7941f3c"
      },
      "source": [
        "html.body.findAll(['h1','h2', 'h3', 'h4', 'p'])"
      ],
      "execution_count": 49,
      "outputs": [
        {
          "output_type": "execute_result",
          "data": {
            "text/plain": [
              "[<h2 class=\"headline headlineC1\">We're here to help</h2>,\n",
              " <p class=\"description\">If you're already a Vanguard client:</p>,\n",
              " <p class=\"phoneNumber\">Call 800-888-3751</p>,\n",
              " <p class=\"schedule\"><strong>Monday through Friday</strong><br/>\n",
              " \t\t8 a.m. to 8 p.m., Eastern time</p>,\n",
              " <h3 class=\"headline headlineH\">WANT SOME ADVICE?</h3>,\n",
              " <h3 class=\"headline headlineH\">WANT TO LEARN MORE?</h3>,\n",
              " <h3 class=\"headline headlineH\">INTERESTED IN EXCHANGE-TRADED FUNDS?</h3>]"
            ]
          },
          "metadata": {
            "tags": []
          },
          "execution_count": 49
        }
      ]
    },
    {
      "cell_type": "code",
      "metadata": {
        "id": "ICRVZmk4AiiB"
      },
      "source": [
        ""
      ],
      "execution_count": null,
      "outputs": []
    }
  ]
}